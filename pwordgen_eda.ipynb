{
 "cells": [
  {
   "cell_type": "code",
   "execution_count": null,
   "id": "e6c2df69",
   "metadata": {},
   "outputs": [],
   "source": [
    "import pandas as pd\n",
    "import numpy as np\n",
    "import math as m\n",
    "from collections import Counter"
   ]
  },
  {
   "cell_type": "code",
   "execution_count": 2,
   "id": "50a469a8",
   "metadata": {},
   "outputs": [
    {
     "name": "stdout",
     "output_type": "stream",
     "text": [
      "['!', '#', '$', '%', '&', '*', '+', '0', '1', '2', '3', '4', '5', '6', '7', '8', '9', ':', ';', '=', '@', 'A', 'B', 'C', 'D', 'E', 'F', 'G', 'H', 'I', 'J', 'K', 'L', 'M', 'N', 'O', 'P', 'Q', 'R', 'S', 'T', 'U', 'V', 'W', 'X', 'Y', 'Z', '^', 'a', 'b', 'c', 'd', 'e', 'f', 'g', 'h', 'i', 'j', 'k', 'l', 'm', 'n', 'o', 'p', 'q', 'r', 's', 't', 'u', 'v', 'w', 'x', 'y', 'z']\n"
     ]
    }
   ],
   "source": [
    "characters = \"\"\n",
    "separated_characters = \"\"\n",
    "for i in range(33,123):\n",
    "    characters += chr(i)\n",
    "for char in \"`.,?-_[]{}<>()|'\\\"\\\\/\":\n",
    "    characters = characters.replace(char, '')\n",
    "for char in characters:\n",
    "    char += ' '\n",
    "    separated_characters += char\n",
    "character_list = separated_characters.split(' ')\n",
    "character_list.remove('')\n",
    "print(character_list)"
   ]
  },
  {
   "cell_type": "code",
   "execution_count": 3,
   "id": "5fc608b6",
   "metadata": {},
   "outputs": [],
   "source": [
    "def give_type(character):\n",
    "    if character.isnumeric():\n",
    "        return 'Number'\n",
    "    elif character.islower():\n",
    "        return 'Lowercase'\n",
    "    elif character.isupper():\n",
    "        return 'Uppercase'\n",
    "    else:\n",
    "        return 'Special'"
   ]
  },
  {
   "cell_type": "code",
   "execution_count": 4,
   "id": "567fbf3a",
   "metadata": {},
   "outputs": [],
   "source": [
    "character_type_df = pd.DataFrame(character_list, columns=['Character'])\n",
    "character_type_df['Character Type'] = character_type_df['Character'].apply(give_type)"
   ]
  },
  {
   "cell_type": "code",
   "execution_count": 5,
   "id": "85a20607",
   "metadata": {},
   "outputs": [
    {
     "data": {
      "text/html": [
       "<div>\n",
       "<style scoped>\n",
       "    .dataframe tbody tr th:only-of-type {\n",
       "        vertical-align: middle;\n",
       "    }\n",
       "\n",
       "    .dataframe tbody tr th {\n",
       "        vertical-align: top;\n",
       "    }\n",
       "\n",
       "    .dataframe thead th {\n",
       "        text-align: right;\n",
       "    }\n",
       "</style>\n",
       "<table border=\"1\" class=\"dataframe\">\n",
       "  <thead>\n",
       "    <tr style=\"text-align: right;\">\n",
       "      <th></th>\n",
       "      <th>Character</th>\n",
       "      <th>Character Type</th>\n",
       "    </tr>\n",
       "  </thead>\n",
       "  <tbody>\n",
       "    <tr>\n",
       "      <th>0</th>\n",
       "      <td>!</td>\n",
       "      <td>Special</td>\n",
       "    </tr>\n",
       "    <tr>\n",
       "      <th>1</th>\n",
       "      <td>#</td>\n",
       "      <td>Special</td>\n",
       "    </tr>\n",
       "    <tr>\n",
       "      <th>2</th>\n",
       "      <td>$</td>\n",
       "      <td>Special</td>\n",
       "    </tr>\n",
       "    <tr>\n",
       "      <th>3</th>\n",
       "      <td>%</td>\n",
       "      <td>Special</td>\n",
       "    </tr>\n",
       "    <tr>\n",
       "      <th>4</th>\n",
       "      <td>&amp;</td>\n",
       "      <td>Special</td>\n",
       "    </tr>\n",
       "    <tr>\n",
       "      <th>...</th>\n",
       "      <td>...</td>\n",
       "      <td>...</td>\n",
       "    </tr>\n",
       "    <tr>\n",
       "      <th>69</th>\n",
       "      <td>v</td>\n",
       "      <td>Lowercase</td>\n",
       "    </tr>\n",
       "    <tr>\n",
       "      <th>70</th>\n",
       "      <td>w</td>\n",
       "      <td>Lowercase</td>\n",
       "    </tr>\n",
       "    <tr>\n",
       "      <th>71</th>\n",
       "      <td>x</td>\n",
       "      <td>Lowercase</td>\n",
       "    </tr>\n",
       "    <tr>\n",
       "      <th>72</th>\n",
       "      <td>y</td>\n",
       "      <td>Lowercase</td>\n",
       "    </tr>\n",
       "    <tr>\n",
       "      <th>73</th>\n",
       "      <td>z</td>\n",
       "      <td>Lowercase</td>\n",
       "    </tr>\n",
       "  </tbody>\n",
       "</table>\n",
       "<p>74 rows × 2 columns</p>\n",
       "</div>"
      ],
      "text/plain": [
       "   Character Character Type\n",
       "0          !        Special\n",
       "1          #        Special\n",
       "2          $        Special\n",
       "3          %        Special\n",
       "4          &        Special\n",
       "..       ...            ...\n",
       "69         v      Lowercase\n",
       "70         w      Lowercase\n",
       "71         x      Lowercase\n",
       "72         y      Lowercase\n",
       "73         z      Lowercase\n",
       "\n",
       "[74 rows x 2 columns]"
      ]
     },
     "execution_count": 5,
     "metadata": {},
     "output_type": "execute_result"
    }
   ],
   "source": [
    "character_type_df"
   ]
  },
  {
   "cell_type": "code",
   "execution_count": 6,
   "id": "e09ed02b",
   "metadata": {},
   "outputs": [
    {
     "data": {
      "text/plain": [
       "Character Type\n",
       "Lowercase    26\n",
       "Uppercase    26\n",
       "Special      12\n",
       "Number       10\n",
       "Name: count, dtype: int64"
      ]
     },
     "execution_count": 6,
     "metadata": {},
     "output_type": "execute_result"
    }
   ],
   "source": [
    "character_type_df['Character Type'].value_counts()"
   ]
  },
  {
   "cell_type": "code",
   "execution_count": 7,
   "id": "51741ee4",
   "metadata": {},
   "outputs": [],
   "source": [
    "keyboard_matrix = np.array([[['1','!'], ['2','@'], ['3','#'], ['4','$'], ['5','%'], ['6','^'], ['7','&'], ['8','*'], ['9','?'], ['0','?'], ['?','?'], ['=','+']],\n",
    "                 [['q','Q'], ['w','W'], ['e','E'], ['r','R'], ['t','T'], ['y','Y'], ['u','U'], ['i','I'], ['o','O'], ['p','P'], ['?','?'], ['?','?']],\n",
    "                 [['a','A'], ['s','S'], ['d','D'], ['f','F'], ['g','G'], ['h','H'], ['j','J'], ['k','K'], ['l','L'], [';',':'], ['?','?'], ['?','?']],\n",
    "                 [['z','Z'], ['x','X'], ['c','C'], ['v','V'], ['b','B'], ['n','N'], ['m','M'], ['?','?'], ['?','?'], ['?','?'], ['?','?'], ['?','?']]])"
   ]
  },
  {
   "cell_type": "code",
   "execution_count": 8,
   "id": "060232b3",
   "metadata": {},
   "outputs": [
    {
     "data": {
      "text/plain": [
       "array([['1', '!'],\n",
       "       ['2', '@'],\n",
       "       ['3', '#'],\n",
       "       ['4', '$'],\n",
       "       ['5', '%'],\n",
       "       ['6', '^'],\n",
       "       ['7', '&'],\n",
       "       ['8', '*'],\n",
       "       ['9', '?'],\n",
       "       ['0', '?'],\n",
       "       ['?', '?'],\n",
       "       ['=', '+']], dtype='<U1')"
      ]
     },
     "execution_count": 8,
     "metadata": {},
     "output_type": "execute_result"
    }
   ],
   "source": [
    "keyboard_matrix[0]"
   ]
  },
  {
   "cell_type": "code",
   "execution_count": 9,
   "id": "15563d00",
   "metadata": {},
   "outputs": [
    {
     "data": {
      "text/plain": [
       "(4, 12, 2)"
      ]
     },
     "execution_count": 9,
     "metadata": {},
     "output_type": "execute_result"
    }
   ],
   "source": [
    "keyboard_matrix.shape"
   ]
  },
  {
   "cell_type": "code",
   "execution_count": 10,
   "id": "13b5ee03",
   "metadata": {},
   "outputs": [
    {
     "data": {
      "text/plain": [
       "'f'"
      ]
     },
     "execution_count": 10,
     "metadata": {},
     "output_type": "execute_result"
    }
   ],
   "source": [
    "keyboard_matrix[np.where(keyboard_matrix == 'f')][0][0]"
   ]
  },
  {
   "cell_type": "code",
   "execution_count": 11,
   "id": "4d7f80fb",
   "metadata": {},
   "outputs": [
    {
     "data": {
      "text/plain": [
       "2"
      ]
     },
     "execution_count": 11,
     "metadata": {},
     "output_type": "execute_result"
    }
   ],
   "source": [
    "np.where(keyboard_matrix == 'f')[0][0].item()"
   ]
  },
  {
   "cell_type": "code",
   "execution_count": 12,
   "id": "9579affe",
   "metadata": {},
   "outputs": [
    {
     "data": {
      "text/plain": [
       "5"
      ]
     },
     "execution_count": 12,
     "metadata": {},
     "output_type": "execute_result"
    }
   ],
   "source": [
    "np.where(keyboard_matrix == 'f')[0][0].item()+np.where(keyboard_matrix == 'f')[1][0].item()"
   ]
  },
  {
   "cell_type": "code",
   "execution_count": 13,
   "id": "acf5d327",
   "metadata": {},
   "outputs": [
    {
     "data": {
      "text/plain": [
       "9120"
      ]
     },
     "execution_count": 13,
     "metadata": {},
     "output_type": "execute_result"
    }
   ],
   "source": [
    "96*95"
   ]
  },
  {
   "cell_type": "code",
   "execution_count": 14,
   "id": "979a7665",
   "metadata": {},
   "outputs": [],
   "source": [
    "def make_matrix(list, array):\n",
    "    start_chars = []\n",
    "    end_chars = []\n",
    "    distances = []\n",
    "    for char in list:\n",
    "        for compchar in list:\n",
    "            if char == compchar:\n",
    "                continue\n",
    "            start_chars.append(char)\n",
    "            end_chars.append(compchar)\n",
    "            distances.append(abs(np.where(array == char)[0][0].item() - np.where(array == compchar)[0][0].item()) + abs(np.where(array == char)[1][0].item() - np.where(array == compchar)[1][0].item()))\n",
    "    return pd.DataFrame({'Start Character': start_chars, 'End Character': end_chars, 'Distance': distances})"
   ]
  },
  {
   "cell_type": "code",
   "execution_count": 15,
   "id": "610f6de4",
   "metadata": {},
   "outputs": [],
   "source": [
    "character_distance_df = make_matrix(character_list, keyboard_matrix)"
   ]
  },
  {
   "cell_type": "code",
   "execution_count": 16,
   "id": "e7a1b1d0",
   "metadata": {},
   "outputs": [
    {
     "data": {
      "text/html": [
       "<div>\n",
       "<style scoped>\n",
       "    .dataframe tbody tr th:only-of-type {\n",
       "        vertical-align: middle;\n",
       "    }\n",
       "\n",
       "    .dataframe tbody tr th {\n",
       "        vertical-align: top;\n",
       "    }\n",
       "\n",
       "    .dataframe thead th {\n",
       "        text-align: right;\n",
       "    }\n",
       "</style>\n",
       "<table border=\"1\" class=\"dataframe\">\n",
       "  <thead>\n",
       "    <tr style=\"text-align: right;\">\n",
       "      <th></th>\n",
       "      <th>Start Character</th>\n",
       "      <th>End Character</th>\n",
       "      <th>Distance</th>\n",
       "    </tr>\n",
       "  </thead>\n",
       "  <tbody>\n",
       "    <tr>\n",
       "      <th>0</th>\n",
       "      <td>!</td>\n",
       "      <td>#</td>\n",
       "      <td>2</td>\n",
       "    </tr>\n",
       "    <tr>\n",
       "      <th>1</th>\n",
       "      <td>!</td>\n",
       "      <td>$</td>\n",
       "      <td>3</td>\n",
       "    </tr>\n",
       "    <tr>\n",
       "      <th>2</th>\n",
       "      <td>!</td>\n",
       "      <td>%</td>\n",
       "      <td>4</td>\n",
       "    </tr>\n",
       "    <tr>\n",
       "      <th>3</th>\n",
       "      <td>!</td>\n",
       "      <td>&amp;</td>\n",
       "      <td>6</td>\n",
       "    </tr>\n",
       "    <tr>\n",
       "      <th>4</th>\n",
       "      <td>!</td>\n",
       "      <td>*</td>\n",
       "      <td>7</td>\n",
       "    </tr>\n",
       "    <tr>\n",
       "      <th>...</th>\n",
       "      <td>...</td>\n",
       "      <td>...</td>\n",
       "      <td>...</td>\n",
       "    </tr>\n",
       "    <tr>\n",
       "      <th>5397</th>\n",
       "      <td>z</td>\n",
       "      <td>u</td>\n",
       "      <td>8</td>\n",
       "    </tr>\n",
       "    <tr>\n",
       "      <th>5398</th>\n",
       "      <td>z</td>\n",
       "      <td>v</td>\n",
       "      <td>3</td>\n",
       "    </tr>\n",
       "    <tr>\n",
       "      <th>5399</th>\n",
       "      <td>z</td>\n",
       "      <td>w</td>\n",
       "      <td>3</td>\n",
       "    </tr>\n",
       "    <tr>\n",
       "      <th>5400</th>\n",
       "      <td>z</td>\n",
       "      <td>x</td>\n",
       "      <td>1</td>\n",
       "    </tr>\n",
       "    <tr>\n",
       "      <th>5401</th>\n",
       "      <td>z</td>\n",
       "      <td>y</td>\n",
       "      <td>7</td>\n",
       "    </tr>\n",
       "  </tbody>\n",
       "</table>\n",
       "<p>5402 rows × 3 columns</p>\n",
       "</div>"
      ],
      "text/plain": [
       "     Start Character End Character  Distance\n",
       "0                  !             #         2\n",
       "1                  !             $         3\n",
       "2                  !             %         4\n",
       "3                  !             &         6\n",
       "4                  !             *         7\n",
       "...              ...           ...       ...\n",
       "5397               z             u         8\n",
       "5398               z             v         3\n",
       "5399               z             w         3\n",
       "5400               z             x         1\n",
       "5401               z             y         7\n",
       "\n",
       "[5402 rows x 3 columns]"
      ]
     },
     "execution_count": 16,
     "metadata": {},
     "output_type": "execute_result"
    }
   ],
   "source": [
    "character_distance_df"
   ]
  },
  {
   "cell_type": "code",
   "execution_count": 17,
   "id": "327b7054",
   "metadata": {},
   "outputs": [
    {
     "data": {
      "text/html": [
       "<div>\n",
       "<style scoped>\n",
       "    .dataframe tbody tr th:only-of-type {\n",
       "        vertical-align: middle;\n",
       "    }\n",
       "\n",
       "    .dataframe tbody tr th {\n",
       "        vertical-align: top;\n",
       "    }\n",
       "\n",
       "    .dataframe thead th {\n",
       "        text-align: right;\n",
       "    }\n",
       "</style>\n",
       "<table border=\"1\" class=\"dataframe\">\n",
       "  <thead>\n",
       "    <tr style=\"text-align: right;\">\n",
       "      <th></th>\n",
       "      <th>Start Character</th>\n",
       "      <th>End Character</th>\n",
       "      <th>Distance</th>\n",
       "    </tr>\n",
       "  </thead>\n",
       "  <tbody>\n",
       "    <tr>\n",
       "      <th>7</th>\n",
       "      <td>!</td>\n",
       "      <td>1</td>\n",
       "      <td>0</td>\n",
       "    </tr>\n",
       "    <tr>\n",
       "      <th>82</th>\n",
       "      <td>#</td>\n",
       "      <td>3</td>\n",
       "      <td>0</td>\n",
       "    </tr>\n",
       "    <tr>\n",
       "      <th>156</th>\n",
       "      <td>$</td>\n",
       "      <td>4</td>\n",
       "      <td>0</td>\n",
       "    </tr>\n",
       "    <tr>\n",
       "      <th>230</th>\n",
       "      <td>%</td>\n",
       "      <td>5</td>\n",
       "      <td>0</td>\n",
       "    </tr>\n",
       "    <tr>\n",
       "      <th>305</th>\n",
       "      <td>&amp;</td>\n",
       "      <td>7</td>\n",
       "      <td>0</td>\n",
       "    </tr>\n",
       "    <tr>\n",
       "      <th>...</th>\n",
       "      <td>...</td>\n",
       "      <td>...</td>\n",
       "      <td>...</td>\n",
       "    </tr>\n",
       "    <tr>\n",
       "      <th>5079</th>\n",
       "      <td>v</td>\n",
       "      <td>V</td>\n",
       "      <td>0</td>\n",
       "    </tr>\n",
       "    <tr>\n",
       "      <th>5153</th>\n",
       "      <td>w</td>\n",
       "      <td>W</td>\n",
       "      <td>0</td>\n",
       "    </tr>\n",
       "    <tr>\n",
       "      <th>5227</th>\n",
       "      <td>x</td>\n",
       "      <td>X</td>\n",
       "      <td>0</td>\n",
       "    </tr>\n",
       "    <tr>\n",
       "      <th>5301</th>\n",
       "      <td>y</td>\n",
       "      <td>Y</td>\n",
       "      <td>0</td>\n",
       "    </tr>\n",
       "    <tr>\n",
       "      <th>5375</th>\n",
       "      <td>z</td>\n",
       "      <td>Z</td>\n",
       "      <td>0</td>\n",
       "    </tr>\n",
       "  </tbody>\n",
       "</table>\n",
       "<p>72 rows × 3 columns</p>\n",
       "</div>"
      ],
      "text/plain": [
       "     Start Character End Character  Distance\n",
       "7                  !             1         0\n",
       "82                 #             3         0\n",
       "156                $             4         0\n",
       "230                %             5         0\n",
       "305                &             7         0\n",
       "...              ...           ...       ...\n",
       "5079               v             V         0\n",
       "5153               w             W         0\n",
       "5227               x             X         0\n",
       "5301               y             Y         0\n",
       "5375               z             Z         0\n",
       "\n",
       "[72 rows x 3 columns]"
      ]
     },
     "execution_count": 17,
     "metadata": {},
     "output_type": "execute_result"
    }
   ],
   "source": [
    "character_distance_df[character_distance_df['Distance'] == 0]"
   ]
  },
  {
   "cell_type": "code",
   "execution_count": 18,
   "id": "becf6107",
   "metadata": {},
   "outputs": [
    {
     "data": {
      "text/html": [
       "<div>\n",
       "<style scoped>\n",
       "    .dataframe tbody tr th:only-of-type {\n",
       "        vertical-align: middle;\n",
       "    }\n",
       "\n",
       "    .dataframe tbody tr th {\n",
       "        vertical-align: top;\n",
       "    }\n",
       "\n",
       "    .dataframe thead th {\n",
       "        text-align: right;\n",
       "    }\n",
       "</style>\n",
       "<table border=\"1\" class=\"dataframe\">\n",
       "  <thead>\n",
       "    <tr style=\"text-align: right;\">\n",
       "      <th></th>\n",
       "      <th>Start Character</th>\n",
       "      <th>End Character</th>\n",
       "      <th>Distance</th>\n",
       "    </tr>\n",
       "  </thead>\n",
       "  <tbody>\n",
       "    <tr>\n",
       "      <th>453</th>\n",
       "      <td>+</td>\n",
       "      <td>9</td>\n",
       "      <td>3</td>\n",
       "    </tr>\n",
       "    <tr>\n",
       "      <th>473</th>\n",
       "      <td>+</td>\n",
       "      <td>P</td>\n",
       "      <td>3</td>\n",
       "    </tr>\n",
       "    <tr>\n",
       "      <th>500</th>\n",
       "      <td>+</td>\n",
       "      <td>p</td>\n",
       "      <td>3</td>\n",
       "    </tr>\n",
       "  </tbody>\n",
       "</table>\n",
       "</div>"
      ],
      "text/plain": [
       "    Start Character End Character  Distance\n",
       "453               +             9         3\n",
       "473               +             P         3\n",
       "500               +             p         3"
      ]
     },
     "execution_count": 18,
     "metadata": {},
     "output_type": "execute_result"
    }
   ],
   "source": [
    "character_distance_df[(character_distance_df['Start Character'] == '+')&(character_distance_df['Distance'] == 3)]"
   ]
  },
  {
   "cell_type": "code",
   "execution_count": 19,
   "id": "39457666",
   "metadata": {},
   "outputs": [
    {
     "data": {
      "text/html": [
       "<div>\n",
       "<style scoped>\n",
       "    .dataframe tbody tr th:only-of-type {\n",
       "        vertical-align: middle;\n",
       "    }\n",
       "\n",
       "    .dataframe tbody tr th {\n",
       "        vertical-align: top;\n",
       "    }\n",
       "\n",
       "    .dataframe thead th {\n",
       "        text-align: right;\n",
       "    }\n",
       "</style>\n",
       "<table border=\"1\" class=\"dataframe\">\n",
       "  <thead>\n",
       "    <tr style=\"text-align: right;\">\n",
       "      <th></th>\n",
       "      <th>Start Character</th>\n",
       "      <th>End Character</th>\n",
       "      <th>Distance</th>\n",
       "    </tr>\n",
       "  </thead>\n",
       "  <tbody>\n",
       "  </tbody>\n",
       "</table>\n",
       "</div>"
      ],
      "text/plain": [
       "Empty DataFrame\n",
       "Columns: [Start Character, End Character, Distance]\n",
       "Index: []"
      ]
     },
     "execution_count": 19,
     "metadata": {},
     "output_type": "execute_result"
    }
   ],
   "source": [
    "character_distance_df[character_distance_df['End Character'] == '?']"
   ]
  },
  {
   "cell_type": "code",
   "execution_count": 20,
   "id": "72fed087",
   "metadata": {},
   "outputs": [
    {
     "data": {
      "text/html": [
       "<div>\n",
       "<style scoped>\n",
       "    .dataframe tbody tr th:only-of-type {\n",
       "        vertical-align: middle;\n",
       "    }\n",
       "\n",
       "    .dataframe tbody tr th {\n",
       "        vertical-align: top;\n",
       "    }\n",
       "\n",
       "    .dataframe thead th {\n",
       "        text-align: right;\n",
       "    }\n",
       "</style>\n",
       "<table border=\"1\" class=\"dataframe\">\n",
       "  <thead>\n",
       "    <tr style=\"text-align: right;\">\n",
       "      <th></th>\n",
       "      <th>Start Character</th>\n",
       "      <th>End Character</th>\n",
       "      <th>Distance</th>\n",
       "    </tr>\n",
       "  </thead>\n",
       "  <tbody>\n",
       "    <tr>\n",
       "      <th>483</th>\n",
       "      <td>+</td>\n",
       "      <td>Z</td>\n",
       "      <td>14</td>\n",
       "    </tr>\n",
       "    <tr>\n",
       "      <th>510</th>\n",
       "      <td>+</td>\n",
       "      <td>z</td>\n",
       "      <td>14</td>\n",
       "    </tr>\n",
       "    <tr>\n",
       "      <th>1432</th>\n",
       "      <td>=</td>\n",
       "      <td>Z</td>\n",
       "      <td>14</td>\n",
       "    </tr>\n",
       "    <tr>\n",
       "      <th>1459</th>\n",
       "      <td>=</td>\n",
       "      <td>z</td>\n",
       "      <td>14</td>\n",
       "    </tr>\n",
       "    <tr>\n",
       "      <th>3364</th>\n",
       "      <td>Z</td>\n",
       "      <td>+</td>\n",
       "      <td>14</td>\n",
       "    </tr>\n",
       "    <tr>\n",
       "      <th>3377</th>\n",
       "      <td>Z</td>\n",
       "      <td>=</td>\n",
       "      <td>14</td>\n",
       "    </tr>\n",
       "    <tr>\n",
       "      <th>5335</th>\n",
       "      <td>z</td>\n",
       "      <td>+</td>\n",
       "      <td>14</td>\n",
       "    </tr>\n",
       "    <tr>\n",
       "      <th>5348</th>\n",
       "      <td>z</td>\n",
       "      <td>=</td>\n",
       "      <td>14</td>\n",
       "    </tr>\n",
       "  </tbody>\n",
       "</table>\n",
       "</div>"
      ],
      "text/plain": [
       "     Start Character End Character  Distance\n",
       "483                +             Z        14\n",
       "510                +             z        14\n",
       "1432               =             Z        14\n",
       "1459               =             z        14\n",
       "3364               Z             +        14\n",
       "3377               Z             =        14\n",
       "5335               z             +        14\n",
       "5348               z             =        14"
      ]
     },
     "execution_count": 20,
     "metadata": {},
     "output_type": "execute_result"
    }
   ],
   "source": [
    "character_distance_df[character_distance_df['Distance'] == 14]"
   ]
  },
  {
   "cell_type": "markdown",
   "id": "29b980d7",
   "metadata": {},
   "source": [
    "[OLD APPROACH]  \n",
    "Approach for selecting first character will be a completely random choice and the next character after this seed will be narrowed down in 2 steps. The first step is narrowing down the options to a specific character type with weighted probabilities based on composition of previously selected password characters. The second step is narrowing down the options to a specific distance from the most recently selected character."
   ]
  },
  {
   "cell_type": "markdown",
   "id": "65f78112",
   "metadata": {},
   "source": [
    "[Current Approach]  \n",
    "Approach for selecting characters will happen in a sequence where the 4 character types will have an equal chance of being selected and after a character type has been selected it will have its probability of being selected reduced and the percentage it was reduced by will be split evenly between the other 3 character types and this process will continue until the desired number of characters has been selected for the generated sequence of character types"
   ]
  },
  {
   "cell_type": "code",
   "execution_count": 92,
   "id": "82e6b795",
   "metadata": {},
   "outputs": [],
   "source": [
    "test = [m.floor(i/25)+1 for i in range(100)]"
   ]
  },
  {
   "cell_type": "code",
   "execution_count": 32,
   "id": "0545d944",
   "metadata": {},
   "outputs": [
    {
     "data": {
      "text/plain": [
       "[1,\n",
       " 1,\n",
       " 1,\n",
       " 1,\n",
       " 1,\n",
       " 1,\n",
       " 1,\n",
       " 1,\n",
       " 1,\n",
       " 1,\n",
       " 1,\n",
       " 1,\n",
       " 1,\n",
       " 1,\n",
       " 1,\n",
       " 1,\n",
       " 1,\n",
       " 1,\n",
       " 1,\n",
       " 1,\n",
       " 1,\n",
       " 1,\n",
       " 1,\n",
       " 1,\n",
       " 1,\n",
       " 2,\n",
       " 2,\n",
       " 2,\n",
       " 2,\n",
       " 2,\n",
       " 2,\n",
       " 2,\n",
       " 2,\n",
       " 2,\n",
       " 2,\n",
       " 2,\n",
       " 2,\n",
       " 2,\n",
       " 2,\n",
       " 2,\n",
       " 2,\n",
       " 2,\n",
       " 2,\n",
       " 2,\n",
       " 2,\n",
       " 2,\n",
       " 2,\n",
       " 2,\n",
       " 2,\n",
       " 2,\n",
       " 3,\n",
       " 3,\n",
       " 3,\n",
       " 3,\n",
       " 3,\n",
       " 3,\n",
       " 3,\n",
       " 3,\n",
       " 3,\n",
       " 3,\n",
       " 3,\n",
       " 3,\n",
       " 3,\n",
       " 3,\n",
       " 3,\n",
       " 3,\n",
       " 3,\n",
       " 3,\n",
       " 3,\n",
       " 3,\n",
       " 3,\n",
       " 3,\n",
       " 3,\n",
       " 3,\n",
       " 3,\n",
       " 4,\n",
       " 4,\n",
       " 4,\n",
       " 4,\n",
       " 4,\n",
       " 4,\n",
       " 4,\n",
       " 4,\n",
       " 4,\n",
       " 4,\n",
       " 4,\n",
       " 4,\n",
       " 4,\n",
       " 4,\n",
       " 4,\n",
       " 4,\n",
       " 4,\n",
       " 4,\n",
       " 4,\n",
       " 4,\n",
       " 4,\n",
       " 4,\n",
       " 4,\n",
       " 4,\n",
       " 4]"
      ]
     },
     "execution_count": 32,
     "metadata": {},
     "output_type": "execute_result"
    }
   ],
   "source": [
    "test"
   ]
  },
  {
   "cell_type": "code",
   "execution_count": 79,
   "id": "1fcb7e06",
   "metadata": {},
   "outputs": [
    {
     "data": {
      "text/plain": [
       "Counter({1: 25, 2: 25, 3: 25, 4: 25})"
      ]
     },
     "execution_count": 79,
     "metadata": {},
     "output_type": "execute_result"
    }
   ],
   "source": [
    "Counter(test)"
   ]
  },
  {
   "cell_type": "code",
   "execution_count": 80,
   "id": "bab8f353",
   "metadata": {},
   "outputs": [],
   "source": [
    "np.random.shuffle(test)"
   ]
  },
  {
   "cell_type": "code",
   "execution_count": 81,
   "id": "0f862489",
   "metadata": {},
   "outputs": [
    {
     "data": {
      "text/plain": [
       "[4,\n",
       " 1,\n",
       " 4,\n",
       " 2,\n",
       " 1,\n",
       " 3,\n",
       " 2,\n",
       " 4,\n",
       " 2,\n",
       " 3,\n",
       " 1,\n",
       " 3,\n",
       " 4,\n",
       " 3,\n",
       " 1,\n",
       " 2,\n",
       " 4,\n",
       " 2,\n",
       " 2,\n",
       " 1,\n",
       " 3,\n",
       " 3,\n",
       " 4,\n",
       " 1,\n",
       " 4,\n",
       " 4,\n",
       " 4,\n",
       " 4,\n",
       " 2,\n",
       " 4,\n",
       " 4,\n",
       " 1,\n",
       " 4,\n",
       " 3,\n",
       " 2,\n",
       " 1,\n",
       " 3,\n",
       " 3,\n",
       " 2,\n",
       " 3,\n",
       " 2,\n",
       " 3,\n",
       " 2,\n",
       " 1,\n",
       " 2,\n",
       " 1,\n",
       " 4,\n",
       " 2,\n",
       " 4,\n",
       " 4,\n",
       " 2,\n",
       " 3,\n",
       " 3,\n",
       " 1,\n",
       " 2,\n",
       " 4,\n",
       " 2,\n",
       " 3,\n",
       " 3,\n",
       " 1,\n",
       " 3,\n",
       " 3,\n",
       " 3,\n",
       " 1,\n",
       " 3,\n",
       " 3,\n",
       " 2,\n",
       " 1,\n",
       " 1,\n",
       " 4,\n",
       " 1,\n",
       " 3,\n",
       " 2,\n",
       " 2,\n",
       " 2,\n",
       " 2,\n",
       " 4,\n",
       " 1,\n",
       " 3,\n",
       " 1,\n",
       " 1,\n",
       " 1,\n",
       " 1,\n",
       " 2,\n",
       " 1,\n",
       " 4,\n",
       " 1,\n",
       " 1,\n",
       " 4,\n",
       " 1,\n",
       " 3,\n",
       " 4,\n",
       " 4,\n",
       " 4,\n",
       " 3,\n",
       " 3,\n",
       " 2,\n",
       " 2,\n",
       " 2,\n",
       " 4]"
      ]
     },
     "execution_count": 81,
     "metadata": {},
     "output_type": "execute_result"
    }
   ],
   "source": [
    "test"
   ]
  },
  {
   "cell_type": "code",
   "execution_count": 45,
   "id": "1e03cfbe",
   "metadata": {},
   "outputs": [],
   "source": [
    "rng = np.random.randint(1, 5)"
   ]
  },
  {
   "cell_type": "code",
   "execution_count": 53,
   "id": "1b1eda68",
   "metadata": {},
   "outputs": [
    {
     "data": {
      "text/plain": [
       "[4, 3, 1, 2]"
      ]
     },
     "execution_count": 53,
     "metadata": {},
     "output_type": "execute_result"
    }
   ],
   "source": [
    "list(Counter(test).keys())"
   ]
  },
  {
   "cell_type": "code",
   "execution_count": 63,
   "id": "1f606645",
   "metadata": {},
   "outputs": [
    {
     "data": {
      "text/plain": [
       "10"
      ]
     },
     "execution_count": 63,
     "metadata": {},
     "output_type": "execute_result"
    }
   ],
   "source": [
    "Counter(test)[4]"
   ]
  },
  {
   "cell_type": "code",
   "execution_count": 216,
   "id": "cf287ff6",
   "metadata": {},
   "outputs": [],
   "source": [
    "def generate_character_type_sequence(character_length):\n",
    "    sequence = []\n",
    "    start_weights = [0.3, 0.3, 0.2, 0.2]\n",
    "    weight_deltas = [i/2 for i in start_weights]\n",
    "    character_types = [\"Uppercase\", \"Lowercase\", \"Number\", \"Special\"]\n",
    "\n",
    "    char = 0\n",
    "    while char < character_length:\n",
    "        while char >= character_length - 2:\n",
    "            while len(set(sequence)) < 4:\n",
    "                selected_type = np.random.choice(list({\"Uppercase\", \"Lowercase\", \"Number\", \"Special\"} - set(sequence))).item()\n",
    "                sequence.append(selected_type)\n",
    "                char += 1\n",
    "            break\n",
    "\n",
    "        selected_type = np.random.choice(character_types, p=start_weights).item()\n",
    "        # print(char, start_weights, selected_type, weight_deltas[character_types.index(selected_type)])\n",
    "        sequence.append(selected_type)\n",
    "\n",
    "        for type in character_types:\n",
    "            if type == selected_type:\n",
    "                if start_weights[character_types.index(type)] - weight_deltas[character_types.index(selected_type)] < 0:\n",
    "                    start_weights[character_types.index(type)] -= start_weights[character_types.index(type)] \n",
    "                else:\n",
    "                    start_weights[character_types.index(type)] -= weight_deltas[character_types.index(selected_type)]\n",
    "            else:\n",
    "                if start_weights[character_types.index(selected_type)] - weight_deltas[character_types.index(selected_type)] < 0:\n",
    "                    start_weights[character_types.index(type)] += start_weights[character_types.index(selected_type)]/3\n",
    "                else:\n",
    "                    start_weights[character_types.index(type)] += weight_deltas[character_types.index(selected_type)]/3\n",
    "        char += 1\n",
    "        start_weights = start_weights / np.sum(start_weights, dtype=np.float64)\n",
    "        weight_deltas = [i/2 for i in start_weights]\n",
    "    return sequence"
   ]
  },
  {
   "cell_type": "code",
   "execution_count": 219,
   "id": "42745994",
   "metadata": {},
   "outputs": [
    {
     "name": "stdout",
     "output_type": "stream",
     "text": [
      "['Number', 'Lowercase', 'Number', 'Special', 'Lowercase', 'Uppercase', 'Number', 'Special', 'Number', 'Uppercase']\n"
     ]
    }
   ],
   "source": [
    "print(generate_character_type_sequence(10))"
   ]
  },
  {
   "cell_type": "code",
   "execution_count": 200,
   "id": "256a9bc2",
   "metadata": {},
   "outputs": [],
   "source": [
    "def deprecated_generate_character_type_sequence(character_length):\n",
    "    prob_distribution = [m.floor(i/25)+1 for i in range(100)]\n",
    "    num_sequence = []\n",
    "    type_dict = {1: 'Number', 2: 'Lowercase', 3: 'Uppercase', 4: 'Special'}\n",
    "    \n",
    "    char = 0\n",
    "    while char < character_length:\n",
    "        \n",
    "        while char >= character_length-2:\n",
    "            while len(set(num_sequence)) < 4:\n",
    "                rng = np.random.choice(list({1,2,3,4}-set(num_sequence))).item()\n",
    "                # while rng not in num_sequence:\n",
    "                #     rng = prob_distribution[np.random.randint(0, 100)] \n",
    "                num_sequence.append(rng)\n",
    "                char += 1\n",
    "            break\n",
    "\n",
    "        if char >= character_length:    \n",
    "            break\n",
    "        \n",
    "        rng = prob_distribution[np.random.randint(0, 100)]\n",
    "        count = Counter(prob_distribution)\n",
    "        \n",
    "        for i in list(count.keys()):\n",
    "            if i == rng:\n",
    "                if count[i] >= 9:\n",
    "                    for j in range(9):\n",
    "                        prob_distribution.remove(i)\n",
    "                else:\n",
    "                    for j in range(count[i]):\n",
    "                        prob_distribution.remove(i)\n",
    "            else:\n",
    "                for j in range(3):\n",
    "                    prob_distribution.append(i)\n",
    "        \n",
    "        while len(prob_distribution) > 100:\n",
    "            rng_excess = np.random.randint(1, 5)\n",
    "            if rng_excess != rng:\n",
    "                prob_distribution.remove(rng_excess)\n",
    "        np.random.shuffle(prob_distribution)\n",
    "        num_sequence.append(rng)\n",
    "        char += 1\n",
    "    \n",
    "    sequence = [type_dict[num] for num in num_sequence]\n",
    "    return num_sequence"
   ]
  },
  {
   "cell_type": "code",
   "execution_count": 101,
   "id": "a25088dc",
   "metadata": {},
   "outputs": [
    {
     "data": {
      "text/plain": [
       "Counter({1: 49, 4: 25, 3: 25, 2: 1})"
      ]
     },
     "execution_count": 101,
     "metadata": {},
     "output_type": "execute_result"
    }
   ],
   "source": [
    "Counter(test)"
   ]
  },
  {
   "cell_type": "code",
   "execution_count": 106,
   "id": "6062fa47",
   "metadata": {},
   "outputs": [
    {
     "data": {
      "text/plain": [
       "4"
      ]
     },
     "execution_count": 106,
     "metadata": {},
     "output_type": "execute_result"
    }
   ],
   "source": [
    "len(set(test))"
   ]
  },
  {
   "cell_type": "code",
   "execution_count": 215,
   "id": "d2cd5608",
   "metadata": {},
   "outputs": [
    {
     "name": "stdout",
     "output_type": "stream",
     "text": [
      "['Uppercase', 'Number', 'Special', 'Uppercase', 'Special', 'Lowercase', 'Special', 'Lowercase']\n"
     ]
    }
   ],
   "source": [
    "print(generate_character_type_sequence(16))"
   ]
  },
  {
   "cell_type": "code",
   "execution_count": 220,
   "id": "159b02bc",
   "metadata": {},
   "outputs": [
    {
     "name": "stdout",
     "output_type": "stream",
     "text": [
      "['Lowercase', 'Lowercase', 'Lowercase', 'Lowercase', 'Number', 'Number', 'Special', 'Special', 'Special', 'Special', 'Uppercase', 'Uppercase']\n"
     ]
    }
   ],
   "source": [
    "print(sorted(generate_character_type_sequence(12)))"
   ]
  },
  {
   "cell_type": "code",
   "execution_count": 76,
   "id": "89fee8be",
   "metadata": {},
   "outputs": [
    {
     "name": "stdout",
     "output_type": "stream",
     "text": [
      "3\n"
     ]
    },
    {
     "data": {
      "text/plain": [
       "Counter({1: 40, 4: 28, 2: 16, 3: 16})"
      ]
     },
     "execution_count": 76,
     "metadata": {},
     "output_type": "execute_result"
    }
   ],
   "source": [
    "print(rng)\n",
    "Counter(test)"
   ]
  },
  {
   "cell_type": "code",
   "execution_count": null,
   "id": "25dc3295",
   "metadata": {},
   "outputs": [],
   "source": []
  },
  {
   "cell_type": "code",
   "execution_count": null,
   "id": "ed5b5a55",
   "metadata": {},
   "outputs": [],
   "source": []
  }
 ],
 "metadata": {
  "kernelspec": {
   "display_name": ".venv (3.13.6)",
   "language": "python",
   "name": "python3"
  },
  "language_info": {
   "codemirror_mode": {
    "name": "ipython",
    "version": 3
   },
   "file_extension": ".py",
   "mimetype": "text/x-python",
   "name": "python",
   "nbconvert_exporter": "python",
   "pygments_lexer": "ipython3",
   "version": "3.13.6"
  }
 },
 "nbformat": 4,
 "nbformat_minor": 5
}
