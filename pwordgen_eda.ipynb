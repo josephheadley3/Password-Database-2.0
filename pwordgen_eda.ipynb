{
 "cells": [
  {
   "cell_type": "code",
   "execution_count": 2,
   "id": "e6c2df69",
   "metadata": {},
   "outputs": [],
   "source": [
    "import pandas as pd\n",
    "import numpy as np\n",
    "import math as m\n",
    "from collections import Counter"
   ]
  },
  {
   "cell_type": "markdown",
   "id": "7d51bc2d",
   "metadata": {},
   "source": [
    "## Generate Dataframe of Keyboard Characters"
   ]
  },
  {
   "cell_type": "code",
   "execution_count": 3,
   "id": "50a469a8",
   "metadata": {},
   "outputs": [
    {
     "name": "stdout",
     "output_type": "stream",
     "text": [
      "['!', '#', '$', '%', '&', '*', '+', '0', '1', '2', '3', '4', '5', '6', '7', '8', '9', ':', ';', '=', '@', 'A', 'B', 'C', 'D', 'E', 'F', 'G', 'H', 'I', 'J', 'K', 'L', 'M', 'N', 'O', 'P', 'Q', 'R', 'S', 'T', 'U', 'V', 'W', 'X', 'Y', 'Z', '^', 'a', 'b', 'c', 'd', 'e', 'f', 'g', 'h', 'i', 'j', 'k', 'l', 'm', 'n', 'o', 'p', 'q', 'r', 's', 't', 'u', 'v', 'w', 'x', 'y', 'z']\n"
     ]
    }
   ],
   "source": [
    "characters = \"\"\n",
    "separated_characters = \"\"\n",
    "for i in range(33,123):\n",
    "    characters += chr(i)\n",
    "for char in \"`.,?-_[]{}<>()|'\\\"\\\\/\":\n",
    "    characters = characters.replace(char, '')\n",
    "for char in characters:\n",
    "    char += ' '\n",
    "    separated_characters += char\n",
    "character_list = separated_characters.split(' ')\n",
    "character_list.remove('')\n",
    "print(character_list)"
   ]
  },
  {
   "cell_type": "code",
   "execution_count": 4,
   "id": "5fc608b6",
   "metadata": {},
   "outputs": [],
   "source": [
    "def give_type(character):\n",
    "    if character.isnumeric():\n",
    "        return 'Number'\n",
    "    elif character.islower():\n",
    "        return 'Lowercase'\n",
    "    elif character.isupper():\n",
    "        return 'Uppercase'\n",
    "    else:\n",
    "        return 'Special'"
   ]
  },
  {
   "cell_type": "code",
   "execution_count": 5,
   "id": "567fbf3a",
   "metadata": {},
   "outputs": [],
   "source": [
    "character_type_df = pd.DataFrame(character_list, columns=['Character'])\n",
    "character_type_df['Character Type'] = character_type_df['Character'].apply(give_type)"
   ]
  },
  {
   "cell_type": "code",
   "execution_count": 6,
   "id": "85a20607",
   "metadata": {},
   "outputs": [
    {
     "data": {
      "text/html": [
       "<div>\n",
       "<style scoped>\n",
       "    .dataframe tbody tr th:only-of-type {\n",
       "        vertical-align: middle;\n",
       "    }\n",
       "\n",
       "    .dataframe tbody tr th {\n",
       "        vertical-align: top;\n",
       "    }\n",
       "\n",
       "    .dataframe thead th {\n",
       "        text-align: right;\n",
       "    }\n",
       "</style>\n",
       "<table border=\"1\" class=\"dataframe\">\n",
       "  <thead>\n",
       "    <tr style=\"text-align: right;\">\n",
       "      <th></th>\n",
       "      <th>Character</th>\n",
       "      <th>Character Type</th>\n",
       "    </tr>\n",
       "  </thead>\n",
       "  <tbody>\n",
       "    <tr>\n",
       "      <th>0</th>\n",
       "      <td>!</td>\n",
       "      <td>Special</td>\n",
       "    </tr>\n",
       "    <tr>\n",
       "      <th>1</th>\n",
       "      <td>#</td>\n",
       "      <td>Special</td>\n",
       "    </tr>\n",
       "    <tr>\n",
       "      <th>2</th>\n",
       "      <td>$</td>\n",
       "      <td>Special</td>\n",
       "    </tr>\n",
       "    <tr>\n",
       "      <th>3</th>\n",
       "      <td>%</td>\n",
       "      <td>Special</td>\n",
       "    </tr>\n",
       "    <tr>\n",
       "      <th>4</th>\n",
       "      <td>&amp;</td>\n",
       "      <td>Special</td>\n",
       "    </tr>\n",
       "    <tr>\n",
       "      <th>...</th>\n",
       "      <td>...</td>\n",
       "      <td>...</td>\n",
       "    </tr>\n",
       "    <tr>\n",
       "      <th>69</th>\n",
       "      <td>v</td>\n",
       "      <td>Lowercase</td>\n",
       "    </tr>\n",
       "    <tr>\n",
       "      <th>70</th>\n",
       "      <td>w</td>\n",
       "      <td>Lowercase</td>\n",
       "    </tr>\n",
       "    <tr>\n",
       "      <th>71</th>\n",
       "      <td>x</td>\n",
       "      <td>Lowercase</td>\n",
       "    </tr>\n",
       "    <tr>\n",
       "      <th>72</th>\n",
       "      <td>y</td>\n",
       "      <td>Lowercase</td>\n",
       "    </tr>\n",
       "    <tr>\n",
       "      <th>73</th>\n",
       "      <td>z</td>\n",
       "      <td>Lowercase</td>\n",
       "    </tr>\n",
       "  </tbody>\n",
       "</table>\n",
       "<p>74 rows × 2 columns</p>\n",
       "</div>"
      ],
      "text/plain": [
       "   Character Character Type\n",
       "0          !        Special\n",
       "1          #        Special\n",
       "2          $        Special\n",
       "3          %        Special\n",
       "4          &        Special\n",
       "..       ...            ...\n",
       "69         v      Lowercase\n",
       "70         w      Lowercase\n",
       "71         x      Lowercase\n",
       "72         y      Lowercase\n",
       "73         z      Lowercase\n",
       "\n",
       "[74 rows x 2 columns]"
      ]
     },
     "execution_count": 6,
     "metadata": {},
     "output_type": "execute_result"
    }
   ],
   "source": [
    "character_type_df"
   ]
  },
  {
   "cell_type": "code",
   "execution_count": 7,
   "id": "e09ed02b",
   "metadata": {},
   "outputs": [
    {
     "data": {
      "text/plain": [
       "Character Type\n",
       "Lowercase    26\n",
       "Uppercase    26\n",
       "Special      12\n",
       "Number       10\n",
       "Name: count, dtype: int64"
      ]
     },
     "execution_count": 7,
     "metadata": {},
     "output_type": "execute_result"
    }
   ],
   "source": [
    "character_type_df['Character Type'].value_counts()"
   ]
  },
  {
   "cell_type": "markdown",
   "id": "25329340",
   "metadata": {},
   "source": [
    "## Generate Matrix with the Layout of Characters on a Keyboard"
   ]
  },
  {
   "cell_type": "code",
   "execution_count": 8,
   "id": "51741ee4",
   "metadata": {},
   "outputs": [],
   "source": [
    "keyboard_matrix = np.array([[['1','!'], ['2','@'], ['3','#'], ['4','$'], ['5','%'], ['6','^'], ['7','&'], ['8','*'], ['9','?'], ['0','?'], ['?','?'], ['=','+']],\n",
    "                 [['q','Q'], ['w','W'], ['e','E'], ['r','R'], ['t','T'], ['y','Y'], ['u','U'], ['i','I'], ['o','O'], ['p','P'], ['?','?'], ['?','?']],\n",
    "                 [['a','A'], ['s','S'], ['d','D'], ['f','F'], ['g','G'], ['h','H'], ['j','J'], ['k','K'], ['l','L'], [';',':'], ['?','?'], ['?','?']],\n",
    "                 [['z','Z'], ['x','X'], ['c','C'], ['v','V'], ['b','B'], ['n','N'], ['m','M'], ['?','?'], ['?','?'], ['?','?'], ['?','?'], ['?','?']]])"
   ]
  },
  {
   "cell_type": "code",
   "execution_count": 9,
   "id": "060232b3",
   "metadata": {},
   "outputs": [
    {
     "data": {
      "text/plain": [
       "array([['1', '!'],\n",
       "       ['2', '@'],\n",
       "       ['3', '#'],\n",
       "       ['4', '$'],\n",
       "       ['5', '%'],\n",
       "       ['6', '^'],\n",
       "       ['7', '&'],\n",
       "       ['8', '*'],\n",
       "       ['9', '?'],\n",
       "       ['0', '?'],\n",
       "       ['?', '?'],\n",
       "       ['=', '+']], dtype='<U1')"
      ]
     },
     "execution_count": 9,
     "metadata": {},
     "output_type": "execute_result"
    }
   ],
   "source": [
    "keyboard_matrix[0]"
   ]
  },
  {
   "cell_type": "code",
   "execution_count": 10,
   "id": "15563d00",
   "metadata": {},
   "outputs": [
    {
     "data": {
      "text/plain": [
       "(4, 12, 2)"
      ]
     },
     "execution_count": 10,
     "metadata": {},
     "output_type": "execute_result"
    }
   ],
   "source": [
    "keyboard_matrix.shape"
   ]
  },
  {
   "cell_type": "code",
   "execution_count": 11,
   "id": "13b5ee03",
   "metadata": {},
   "outputs": [
    {
     "data": {
      "text/plain": [
       "'f'"
      ]
     },
     "execution_count": 11,
     "metadata": {},
     "output_type": "execute_result"
    }
   ],
   "source": [
    "keyboard_matrix[np.where(keyboard_matrix == 'f')][0][0]"
   ]
  },
  {
   "cell_type": "code",
   "execution_count": 12,
   "id": "4d7f80fb",
   "metadata": {},
   "outputs": [
    {
     "data": {
      "text/plain": [
       "2"
      ]
     },
     "execution_count": 12,
     "metadata": {},
     "output_type": "execute_result"
    }
   ],
   "source": [
    "np.where(keyboard_matrix == 'f')[0][0].item()"
   ]
  },
  {
   "cell_type": "code",
   "execution_count": 13,
   "id": "9579affe",
   "metadata": {},
   "outputs": [
    {
     "data": {
      "text/plain": [
       "5"
      ]
     },
     "execution_count": 13,
     "metadata": {},
     "output_type": "execute_result"
    }
   ],
   "source": [
    "np.where(keyboard_matrix == 'f')[0][0].item()+np.where(keyboard_matrix == 'f')[1][0].item()"
   ]
  },
  {
   "cell_type": "code",
   "execution_count": 14,
   "id": "acf5d327",
   "metadata": {},
   "outputs": [
    {
     "data": {
      "text/plain": [
       "9120"
      ]
     },
     "execution_count": 14,
     "metadata": {},
     "output_type": "execute_result"
    }
   ],
   "source": [
    "96*95"
   ]
  },
  {
   "cell_type": "markdown",
   "id": "402ecf15",
   "metadata": {},
   "source": [
    "## Generate a Pandas Dataframe to Display the Manhattan Distance between Every Possible Pair of Characters"
   ]
  },
  {
   "cell_type": "code",
   "execution_count": 15,
   "id": "979a7665",
   "metadata": {},
   "outputs": [],
   "source": [
    "def make_matrix(list, array):\n",
    "    start_chars = []\n",
    "    end_chars = []\n",
    "    distances = []\n",
    "    for char in list:\n",
    "        for compchar in list:\n",
    "            if char == compchar:\n",
    "                continue\n",
    "            start_chars.append(char)\n",
    "            end_chars.append(compchar)\n",
    "            distances.append(abs(np.where(array == char)[0][0].item() - np.where(array == compchar)[0][0].item()) + abs(np.where(array == char)[1][0].item() - np.where(array == compchar)[1][0].item()))\n",
    "    return pd.DataFrame({'Start Character': start_chars, 'End Character': end_chars, 'Distance': distances})"
   ]
  },
  {
   "cell_type": "code",
   "execution_count": 16,
   "id": "610f6de4",
   "metadata": {},
   "outputs": [],
   "source": [
    "character_distance_df = make_matrix(character_list, keyboard_matrix)"
   ]
  },
  {
   "cell_type": "code",
   "execution_count": 17,
   "id": "e7a1b1d0",
   "metadata": {},
   "outputs": [
    {
     "data": {
      "text/html": [
       "<div>\n",
       "<style scoped>\n",
       "    .dataframe tbody tr th:only-of-type {\n",
       "        vertical-align: middle;\n",
       "    }\n",
       "\n",
       "    .dataframe tbody tr th {\n",
       "        vertical-align: top;\n",
       "    }\n",
       "\n",
       "    .dataframe thead th {\n",
       "        text-align: right;\n",
       "    }\n",
       "</style>\n",
       "<table border=\"1\" class=\"dataframe\">\n",
       "  <thead>\n",
       "    <tr style=\"text-align: right;\">\n",
       "      <th></th>\n",
       "      <th>Start Character</th>\n",
       "      <th>End Character</th>\n",
       "      <th>Distance</th>\n",
       "    </tr>\n",
       "  </thead>\n",
       "  <tbody>\n",
       "    <tr>\n",
       "      <th>0</th>\n",
       "      <td>!</td>\n",
       "      <td>#</td>\n",
       "      <td>2</td>\n",
       "    </tr>\n",
       "    <tr>\n",
       "      <th>1</th>\n",
       "      <td>!</td>\n",
       "      <td>$</td>\n",
       "      <td>3</td>\n",
       "    </tr>\n",
       "    <tr>\n",
       "      <th>2</th>\n",
       "      <td>!</td>\n",
       "      <td>%</td>\n",
       "      <td>4</td>\n",
       "    </tr>\n",
       "    <tr>\n",
       "      <th>3</th>\n",
       "      <td>!</td>\n",
       "      <td>&amp;</td>\n",
       "      <td>6</td>\n",
       "    </tr>\n",
       "    <tr>\n",
       "      <th>4</th>\n",
       "      <td>!</td>\n",
       "      <td>*</td>\n",
       "      <td>7</td>\n",
       "    </tr>\n",
       "    <tr>\n",
       "      <th>...</th>\n",
       "      <td>...</td>\n",
       "      <td>...</td>\n",
       "      <td>...</td>\n",
       "    </tr>\n",
       "    <tr>\n",
       "      <th>5397</th>\n",
       "      <td>z</td>\n",
       "      <td>u</td>\n",
       "      <td>8</td>\n",
       "    </tr>\n",
       "    <tr>\n",
       "      <th>5398</th>\n",
       "      <td>z</td>\n",
       "      <td>v</td>\n",
       "      <td>3</td>\n",
       "    </tr>\n",
       "    <tr>\n",
       "      <th>5399</th>\n",
       "      <td>z</td>\n",
       "      <td>w</td>\n",
       "      <td>3</td>\n",
       "    </tr>\n",
       "    <tr>\n",
       "      <th>5400</th>\n",
       "      <td>z</td>\n",
       "      <td>x</td>\n",
       "      <td>1</td>\n",
       "    </tr>\n",
       "    <tr>\n",
       "      <th>5401</th>\n",
       "      <td>z</td>\n",
       "      <td>y</td>\n",
       "      <td>7</td>\n",
       "    </tr>\n",
       "  </tbody>\n",
       "</table>\n",
       "<p>5402 rows × 3 columns</p>\n",
       "</div>"
      ],
      "text/plain": [
       "     Start Character End Character  Distance\n",
       "0                  !             #         2\n",
       "1                  !             $         3\n",
       "2                  !             %         4\n",
       "3                  !             &         6\n",
       "4                  !             *         7\n",
       "...              ...           ...       ...\n",
       "5397               z             u         8\n",
       "5398               z             v         3\n",
       "5399               z             w         3\n",
       "5400               z             x         1\n",
       "5401               z             y         7\n",
       "\n",
       "[5402 rows x 3 columns]"
      ]
     },
     "execution_count": 17,
     "metadata": {},
     "output_type": "execute_result"
    }
   ],
   "source": [
    "character_distance_df"
   ]
  },
  {
   "cell_type": "code",
   "execution_count": 18,
   "id": "327b7054",
   "metadata": {},
   "outputs": [
    {
     "data": {
      "text/html": [
       "<div>\n",
       "<style scoped>\n",
       "    .dataframe tbody tr th:only-of-type {\n",
       "        vertical-align: middle;\n",
       "    }\n",
       "\n",
       "    .dataframe tbody tr th {\n",
       "        vertical-align: top;\n",
       "    }\n",
       "\n",
       "    .dataframe thead th {\n",
       "        text-align: right;\n",
       "    }\n",
       "</style>\n",
       "<table border=\"1\" class=\"dataframe\">\n",
       "  <thead>\n",
       "    <tr style=\"text-align: right;\">\n",
       "      <th></th>\n",
       "      <th>Start Character</th>\n",
       "      <th>End Character</th>\n",
       "      <th>Distance</th>\n",
       "    </tr>\n",
       "  </thead>\n",
       "  <tbody>\n",
       "    <tr>\n",
       "      <th>7</th>\n",
       "      <td>!</td>\n",
       "      <td>1</td>\n",
       "      <td>0</td>\n",
       "    </tr>\n",
       "    <tr>\n",
       "      <th>82</th>\n",
       "      <td>#</td>\n",
       "      <td>3</td>\n",
       "      <td>0</td>\n",
       "    </tr>\n",
       "    <tr>\n",
       "      <th>156</th>\n",
       "      <td>$</td>\n",
       "      <td>4</td>\n",
       "      <td>0</td>\n",
       "    </tr>\n",
       "    <tr>\n",
       "      <th>230</th>\n",
       "      <td>%</td>\n",
       "      <td>5</td>\n",
       "      <td>0</td>\n",
       "    </tr>\n",
       "    <tr>\n",
       "      <th>305</th>\n",
       "      <td>&amp;</td>\n",
       "      <td>7</td>\n",
       "      <td>0</td>\n",
       "    </tr>\n",
       "    <tr>\n",
       "      <th>...</th>\n",
       "      <td>...</td>\n",
       "      <td>...</td>\n",
       "      <td>...</td>\n",
       "    </tr>\n",
       "    <tr>\n",
       "      <th>5079</th>\n",
       "      <td>v</td>\n",
       "      <td>V</td>\n",
       "      <td>0</td>\n",
       "    </tr>\n",
       "    <tr>\n",
       "      <th>5153</th>\n",
       "      <td>w</td>\n",
       "      <td>W</td>\n",
       "      <td>0</td>\n",
       "    </tr>\n",
       "    <tr>\n",
       "      <th>5227</th>\n",
       "      <td>x</td>\n",
       "      <td>X</td>\n",
       "      <td>0</td>\n",
       "    </tr>\n",
       "    <tr>\n",
       "      <th>5301</th>\n",
       "      <td>y</td>\n",
       "      <td>Y</td>\n",
       "      <td>0</td>\n",
       "    </tr>\n",
       "    <tr>\n",
       "      <th>5375</th>\n",
       "      <td>z</td>\n",
       "      <td>Z</td>\n",
       "      <td>0</td>\n",
       "    </tr>\n",
       "  </tbody>\n",
       "</table>\n",
       "<p>72 rows × 3 columns</p>\n",
       "</div>"
      ],
      "text/plain": [
       "     Start Character End Character  Distance\n",
       "7                  !             1         0\n",
       "82                 #             3         0\n",
       "156                $             4         0\n",
       "230                %             5         0\n",
       "305                &             7         0\n",
       "...              ...           ...       ...\n",
       "5079               v             V         0\n",
       "5153               w             W         0\n",
       "5227               x             X         0\n",
       "5301               y             Y         0\n",
       "5375               z             Z         0\n",
       "\n",
       "[72 rows x 3 columns]"
      ]
     },
     "execution_count": 18,
     "metadata": {},
     "output_type": "execute_result"
    }
   ],
   "source": [
    "character_distance_df[character_distance_df['Distance'] == 0]"
   ]
  },
  {
   "cell_type": "code",
   "execution_count": 19,
   "id": "becf6107",
   "metadata": {},
   "outputs": [
    {
     "data": {
      "text/html": [
       "<div>\n",
       "<style scoped>\n",
       "    .dataframe tbody tr th:only-of-type {\n",
       "        vertical-align: middle;\n",
       "    }\n",
       "\n",
       "    .dataframe tbody tr th {\n",
       "        vertical-align: top;\n",
       "    }\n",
       "\n",
       "    .dataframe thead th {\n",
       "        text-align: right;\n",
       "    }\n",
       "</style>\n",
       "<table border=\"1\" class=\"dataframe\">\n",
       "  <thead>\n",
       "    <tr style=\"text-align: right;\">\n",
       "      <th></th>\n",
       "      <th>Start Character</th>\n",
       "      <th>End Character</th>\n",
       "      <th>Distance</th>\n",
       "    </tr>\n",
       "  </thead>\n",
       "  <tbody>\n",
       "    <tr>\n",
       "      <th>453</th>\n",
       "      <td>+</td>\n",
       "      <td>9</td>\n",
       "      <td>3</td>\n",
       "    </tr>\n",
       "    <tr>\n",
       "      <th>473</th>\n",
       "      <td>+</td>\n",
       "      <td>P</td>\n",
       "      <td>3</td>\n",
       "    </tr>\n",
       "    <tr>\n",
       "      <th>500</th>\n",
       "      <td>+</td>\n",
       "      <td>p</td>\n",
       "      <td>3</td>\n",
       "    </tr>\n",
       "  </tbody>\n",
       "</table>\n",
       "</div>"
      ],
      "text/plain": [
       "    Start Character End Character  Distance\n",
       "453               +             9         3\n",
       "473               +             P         3\n",
       "500               +             p         3"
      ]
     },
     "execution_count": 19,
     "metadata": {},
     "output_type": "execute_result"
    }
   ],
   "source": [
    "character_distance_df[(character_distance_df['Start Character'] == '+')&(character_distance_df['Distance'] == 3)]"
   ]
  },
  {
   "cell_type": "code",
   "execution_count": 20,
   "id": "39457666",
   "metadata": {},
   "outputs": [
    {
     "data": {
      "text/html": [
       "<div>\n",
       "<style scoped>\n",
       "    .dataframe tbody tr th:only-of-type {\n",
       "        vertical-align: middle;\n",
       "    }\n",
       "\n",
       "    .dataframe tbody tr th {\n",
       "        vertical-align: top;\n",
       "    }\n",
       "\n",
       "    .dataframe thead th {\n",
       "        text-align: right;\n",
       "    }\n",
       "</style>\n",
       "<table border=\"1\" class=\"dataframe\">\n",
       "  <thead>\n",
       "    <tr style=\"text-align: right;\">\n",
       "      <th></th>\n",
       "      <th>Start Character</th>\n",
       "      <th>End Character</th>\n",
       "      <th>Distance</th>\n",
       "    </tr>\n",
       "  </thead>\n",
       "  <tbody>\n",
       "  </tbody>\n",
       "</table>\n",
       "</div>"
      ],
      "text/plain": [
       "Empty DataFrame\n",
       "Columns: [Start Character, End Character, Distance]\n",
       "Index: []"
      ]
     },
     "execution_count": 20,
     "metadata": {},
     "output_type": "execute_result"
    }
   ],
   "source": [
    "character_distance_df[character_distance_df['End Character'] == '?']"
   ]
  },
  {
   "cell_type": "code",
   "execution_count": 21,
   "id": "72fed087",
   "metadata": {},
   "outputs": [
    {
     "data": {
      "text/html": [
       "<div>\n",
       "<style scoped>\n",
       "    .dataframe tbody tr th:only-of-type {\n",
       "        vertical-align: middle;\n",
       "    }\n",
       "\n",
       "    .dataframe tbody tr th {\n",
       "        vertical-align: top;\n",
       "    }\n",
       "\n",
       "    .dataframe thead th {\n",
       "        text-align: right;\n",
       "    }\n",
       "</style>\n",
       "<table border=\"1\" class=\"dataframe\">\n",
       "  <thead>\n",
       "    <tr style=\"text-align: right;\">\n",
       "      <th></th>\n",
       "      <th>Start Character</th>\n",
       "      <th>End Character</th>\n",
       "      <th>Distance</th>\n",
       "    </tr>\n",
       "  </thead>\n",
       "  <tbody>\n",
       "    <tr>\n",
       "      <th>483</th>\n",
       "      <td>+</td>\n",
       "      <td>Z</td>\n",
       "      <td>14</td>\n",
       "    </tr>\n",
       "    <tr>\n",
       "      <th>510</th>\n",
       "      <td>+</td>\n",
       "      <td>z</td>\n",
       "      <td>14</td>\n",
       "    </tr>\n",
       "    <tr>\n",
       "      <th>1432</th>\n",
       "      <td>=</td>\n",
       "      <td>Z</td>\n",
       "      <td>14</td>\n",
       "    </tr>\n",
       "    <tr>\n",
       "      <th>1459</th>\n",
       "      <td>=</td>\n",
       "      <td>z</td>\n",
       "      <td>14</td>\n",
       "    </tr>\n",
       "    <tr>\n",
       "      <th>3364</th>\n",
       "      <td>Z</td>\n",
       "      <td>+</td>\n",
       "      <td>14</td>\n",
       "    </tr>\n",
       "    <tr>\n",
       "      <th>3377</th>\n",
       "      <td>Z</td>\n",
       "      <td>=</td>\n",
       "      <td>14</td>\n",
       "    </tr>\n",
       "    <tr>\n",
       "      <th>5335</th>\n",
       "      <td>z</td>\n",
       "      <td>+</td>\n",
       "      <td>14</td>\n",
       "    </tr>\n",
       "    <tr>\n",
       "      <th>5348</th>\n",
       "      <td>z</td>\n",
       "      <td>=</td>\n",
       "      <td>14</td>\n",
       "    </tr>\n",
       "  </tbody>\n",
       "</table>\n",
       "</div>"
      ],
      "text/plain": [
       "     Start Character End Character  Distance\n",
       "483                +             Z        14\n",
       "510                +             z        14\n",
       "1432               =             Z        14\n",
       "1459               =             z        14\n",
       "3364               Z             +        14\n",
       "3377               Z             =        14\n",
       "5335               z             +        14\n",
       "5348               z             =        14"
      ]
     },
     "execution_count": 21,
     "metadata": {},
     "output_type": "execute_result"
    }
   ],
   "source": [
    "character_distance_df[character_distance_df['Distance'] == 14]"
   ]
  },
  {
   "cell_type": "code",
   "execution_count": 49,
   "id": "9841c1b1",
   "metadata": {},
   "outputs": [],
   "source": [
    "character_info_df = character_distance_df.merge(character_type_df, left_on='End Character', right_on='Character', how='left')"
   ]
  },
  {
   "cell_type": "markdown",
   "id": "29b980d7",
   "metadata": {},
   "source": [
    "[OLD APPROACH]  \n",
    "Approach for selecting first character will be a completely random choice and the next character after this seed will be narrowed down in 2 steps. The first step is narrowing down the options to a specific character type with weighted probabilities based on composition of previously selected password characters. The second step is narrowing down the options to a specific distance from the most recently selected character."
   ]
  },
  {
   "cell_type": "markdown",
   "id": "65f78112",
   "metadata": {},
   "source": [
    "[Current Approach]  \n",
    "Approach for selecting characters will happen in a sequence where the 4 character types will have an equal chance of being selected and after a character type has been selected it will have its probability of being selected reduced and the percentage it was reduced by will be split evenly between the other 3 character types and this process will continue until the desired number of characters has been selected for the generated sequence of character types"
   ]
  },
  {
   "cell_type": "code",
   "execution_count": 22,
   "id": "82e6b795",
   "metadata": {},
   "outputs": [],
   "source": [
    "test = [m.floor(i/25)+1 for i in range(100)]"
   ]
  },
  {
   "cell_type": "code",
   "execution_count": 23,
   "id": "0545d944",
   "metadata": {},
   "outputs": [
    {
     "data": {
      "text/plain": [
       "[1,\n",
       " 1,\n",
       " 1,\n",
       " 1,\n",
       " 1,\n",
       " 1,\n",
       " 1,\n",
       " 1,\n",
       " 1,\n",
       " 1,\n",
       " 1,\n",
       " 1,\n",
       " 1,\n",
       " 1,\n",
       " 1,\n",
       " 1,\n",
       " 1,\n",
       " 1,\n",
       " 1,\n",
       " 1,\n",
       " 1,\n",
       " 1,\n",
       " 1,\n",
       " 1,\n",
       " 1,\n",
       " 2,\n",
       " 2,\n",
       " 2,\n",
       " 2,\n",
       " 2,\n",
       " 2,\n",
       " 2,\n",
       " 2,\n",
       " 2,\n",
       " 2,\n",
       " 2,\n",
       " 2,\n",
       " 2,\n",
       " 2,\n",
       " 2,\n",
       " 2,\n",
       " 2,\n",
       " 2,\n",
       " 2,\n",
       " 2,\n",
       " 2,\n",
       " 2,\n",
       " 2,\n",
       " 2,\n",
       " 2,\n",
       " 3,\n",
       " 3,\n",
       " 3,\n",
       " 3,\n",
       " 3,\n",
       " 3,\n",
       " 3,\n",
       " 3,\n",
       " 3,\n",
       " 3,\n",
       " 3,\n",
       " 3,\n",
       " 3,\n",
       " 3,\n",
       " 3,\n",
       " 3,\n",
       " 3,\n",
       " 3,\n",
       " 3,\n",
       " 3,\n",
       " 3,\n",
       " 3,\n",
       " 3,\n",
       " 3,\n",
       " 3,\n",
       " 4,\n",
       " 4,\n",
       " 4,\n",
       " 4,\n",
       " 4,\n",
       " 4,\n",
       " 4,\n",
       " 4,\n",
       " 4,\n",
       " 4,\n",
       " 4,\n",
       " 4,\n",
       " 4,\n",
       " 4,\n",
       " 4,\n",
       " 4,\n",
       " 4,\n",
       " 4,\n",
       " 4,\n",
       " 4,\n",
       " 4,\n",
       " 4,\n",
       " 4,\n",
       " 4,\n",
       " 4]"
      ]
     },
     "execution_count": 23,
     "metadata": {},
     "output_type": "execute_result"
    }
   ],
   "source": [
    "test"
   ]
  },
  {
   "cell_type": "code",
   "execution_count": 24,
   "id": "1fcb7e06",
   "metadata": {},
   "outputs": [
    {
     "data": {
      "text/plain": [
       "Counter({1: 25, 2: 25, 3: 25, 4: 25})"
      ]
     },
     "execution_count": 24,
     "metadata": {},
     "output_type": "execute_result"
    }
   ],
   "source": [
    "Counter(test)"
   ]
  },
  {
   "cell_type": "code",
   "execution_count": 25,
   "id": "bab8f353",
   "metadata": {},
   "outputs": [],
   "source": [
    "np.random.shuffle(test)"
   ]
  },
  {
   "cell_type": "code",
   "execution_count": 26,
   "id": "0f862489",
   "metadata": {},
   "outputs": [
    {
     "data": {
      "text/plain": [
       "[3,\n",
       " 1,\n",
       " 3,\n",
       " 2,\n",
       " 2,\n",
       " 2,\n",
       " 2,\n",
       " 1,\n",
       " 4,\n",
       " 3,\n",
       " 1,\n",
       " 4,\n",
       " 4,\n",
       " 1,\n",
       " 2,\n",
       " 3,\n",
       " 3,\n",
       " 4,\n",
       " 2,\n",
       " 2,\n",
       " 1,\n",
       " 3,\n",
       " 3,\n",
       " 3,\n",
       " 1,\n",
       " 2,\n",
       " 1,\n",
       " 4,\n",
       " 4,\n",
       " 2,\n",
       " 1,\n",
       " 2,\n",
       " 4,\n",
       " 3,\n",
       " 1,\n",
       " 4,\n",
       " 3,\n",
       " 3,\n",
       " 2,\n",
       " 2,\n",
       " 4,\n",
       " 2,\n",
       " 1,\n",
       " 3,\n",
       " 2,\n",
       " 2,\n",
       " 3,\n",
       " 4,\n",
       " 3,\n",
       " 3,\n",
       " 1,\n",
       " 2,\n",
       " 4,\n",
       " 2,\n",
       " 1,\n",
       " 1,\n",
       " 1,\n",
       " 1,\n",
       " 4,\n",
       " 2,\n",
       " 2,\n",
       " 1,\n",
       " 1,\n",
       " 3,\n",
       " 2,\n",
       " 2,\n",
       " 4,\n",
       " 1,\n",
       " 1,\n",
       " 4,\n",
       " 2,\n",
       " 3,\n",
       " 3,\n",
       " 3,\n",
       " 4,\n",
       " 4,\n",
       " 1,\n",
       " 4,\n",
       " 3,\n",
       " 3,\n",
       " 3,\n",
       " 1,\n",
       " 4,\n",
       " 2,\n",
       " 4,\n",
       " 4,\n",
       " 4,\n",
       " 3,\n",
       " 2,\n",
       " 3,\n",
       " 4,\n",
       " 4,\n",
       " 1,\n",
       " 4,\n",
       " 1,\n",
       " 3,\n",
       " 4,\n",
       " 1,\n",
       " 2,\n",
       " 1]"
      ]
     },
     "execution_count": 26,
     "metadata": {},
     "output_type": "execute_result"
    }
   ],
   "source": [
    "test"
   ]
  },
  {
   "cell_type": "code",
   "execution_count": 27,
   "id": "1e03cfbe",
   "metadata": {},
   "outputs": [],
   "source": [
    "rng = np.random.randint(1, 5)"
   ]
  },
  {
   "cell_type": "code",
   "execution_count": 28,
   "id": "1b1eda68",
   "metadata": {},
   "outputs": [
    {
     "data": {
      "text/plain": [
       "[3, 1, 2, 4]"
      ]
     },
     "execution_count": 28,
     "metadata": {},
     "output_type": "execute_result"
    }
   ],
   "source": [
    "list(Counter(test).keys())"
   ]
  },
  {
   "cell_type": "code",
   "execution_count": 29,
   "id": "1f606645",
   "metadata": {},
   "outputs": [
    {
     "data": {
      "text/plain": [
       "25"
      ]
     },
     "execution_count": 29,
     "metadata": {},
     "output_type": "execute_result"
    }
   ],
   "source": [
    "Counter(test)[4]"
   ]
  },
  {
   "cell_type": "markdown",
   "id": "c26af51b",
   "metadata": {},
   "source": [
    "## Generating the Character Type Sequence that the Code Will Follow to Make Random Passowrds"
   ]
  },
  {
   "cell_type": "code",
   "execution_count": null,
   "id": "cf287ff6",
   "metadata": {},
   "outputs": [],
   "source": [
    "def generate_character_type_sequence(character_length):\n",
    "    sequence = []\n",
    "    start_weights = [0.3, 0.3, 0.2, 0.2]\n",
    "    weight_deltas = [i/2 for i in start_weights]\n",
    "    character_types = [\"Uppercase\", \"Lowercase\", \"Number\", \"Special\"]\n",
    "\n",
    "    char = 0\n",
    "    while char < character_length:\n",
    "        while char >= character_length - 2:\n",
    "            while len(set(sequence)) < 4:\n",
    "                selected_type = np.random.choice(list({\"Uppercase\", \"Lowercase\", \"Number\", \"Special\"} - set(sequence))).item()\n",
    "                sequence.append(selected_type)\n",
    "                char += 1\n",
    "            break\n",
    "\n",
    "        selected_type = np.random.choice(character_types, p=start_weights).item()\n",
    "        sequence.append(selected_type)\n",
    "\n",
    "        for type in character_types:\n",
    "            if type == selected_type:\n",
    "                if start_weights[character_types.index(type)] - weight_deltas[character_types.index(selected_type)] < 0:\n",
    "                    start_weights[character_types.index(type)] -= start_weights[character_types.index(type)] \n",
    "                else:\n",
    "                    start_weights[character_types.index(type)] -= weight_deltas[character_types.index(selected_type)]\n",
    "            else:\n",
    "                if start_weights[character_types.index(selected_type)] - weight_deltas[character_types.index(selected_type)] < 0:\n",
    "                    start_weights[character_types.index(type)] += start_weights[character_types.index(selected_type)]/3\n",
    "                else:\n",
    "                    start_weights[character_types.index(type)] += weight_deltas[character_types.index(selected_type)]/3\n",
    "        char += 1\n",
    "        start_weights = start_weights / np.sum(start_weights, dtype=np.float64)\n",
    "        weight_deltas = [i/2 for i in start_weights]\n",
    "    return sequence"
   ]
  },
  {
   "cell_type": "code",
   "execution_count": 31,
   "id": "42745994",
   "metadata": {},
   "outputs": [
    {
     "name": "stdout",
     "output_type": "stream",
     "text": [
      "['Lowercase', 'Special', 'Number', 'Special', 'Lowercase', 'Uppercase', 'Special', 'Number', 'Uppercase', 'Special']\n"
     ]
    }
   ],
   "source": [
    "print(generate_character_type_sequence(10))"
   ]
  },
  {
   "cell_type": "code",
   "execution_count": 200,
   "id": "256a9bc2",
   "metadata": {},
   "outputs": [],
   "source": [
    "def deprecated_generate_character_type_sequence(character_length):\n",
    "    prob_distribution = [m.floor(i/25)+1 for i in range(100)]\n",
    "    num_sequence = []\n",
    "    type_dict = {1: 'Number', 2: 'Lowercase', 3: 'Uppercase', 4: 'Special'}\n",
    "    \n",
    "    char = 0\n",
    "    while char < character_length:\n",
    "        \n",
    "        while char >= character_length-2:\n",
    "            while len(set(num_sequence)) < 4:\n",
    "                rng = np.random.choice(list({1,2,3,4}-set(num_sequence))).item()\n",
    "                # while rng not in num_sequence:\n",
    "                #     rng = prob_distribution[np.random.randint(0, 100)] \n",
    "                num_sequence.append(rng)\n",
    "                char += 1\n",
    "            break\n",
    "\n",
    "        if char >= character_length:    \n",
    "            break\n",
    "        \n",
    "        rng = prob_distribution[np.random.randint(0, 100)]\n",
    "        count = Counter(prob_distribution)\n",
    "        \n",
    "        for i in list(count.keys()):\n",
    "            if i == rng:\n",
    "                if count[i] >= 9:\n",
    "                    for j in range(9):\n",
    "                        prob_distribution.remove(i)\n",
    "                else:\n",
    "                    for j in range(count[i]):\n",
    "                        prob_distribution.remove(i)\n",
    "            else:\n",
    "                for j in range(3):\n",
    "                    prob_distribution.append(i)\n",
    "        \n",
    "        while len(prob_distribution) > 100:\n",
    "            rng_excess = np.random.randint(1, 5)\n",
    "            if rng_excess != rng:\n",
    "                prob_distribution.remove(rng_excess)\n",
    "        np.random.shuffle(prob_distribution)\n",
    "        num_sequence.append(rng)\n",
    "        char += 1\n",
    "    \n",
    "    sequence = [type_dict[num] for num in num_sequence]\n",
    "    return num_sequence"
   ]
  },
  {
   "cell_type": "code",
   "execution_count": 32,
   "id": "a25088dc",
   "metadata": {},
   "outputs": [
    {
     "data": {
      "text/plain": [
       "Counter({3: 25, 1: 25, 2: 25, 4: 25})"
      ]
     },
     "execution_count": 32,
     "metadata": {},
     "output_type": "execute_result"
    }
   ],
   "source": [
    "Counter(test)"
   ]
  },
  {
   "cell_type": "code",
   "execution_count": 106,
   "id": "6062fa47",
   "metadata": {},
   "outputs": [
    {
     "data": {
      "text/plain": [
       "4"
      ]
     },
     "execution_count": 106,
     "metadata": {},
     "output_type": "execute_result"
    }
   ],
   "source": [
    "len(set(test))"
   ]
  },
  {
   "cell_type": "code",
   "execution_count": 33,
   "id": "d2cd5608",
   "metadata": {},
   "outputs": [
    {
     "name": "stdout",
     "output_type": "stream",
     "text": [
      "['Lowercase', 'Special', 'Special', 'Uppercase', 'Number', 'Number', 'Special', 'Uppercase', 'Number', 'Lowercase', 'Lowercase', 'Special', 'Lowercase', 'Special', 'Uppercase', 'Number']\n"
     ]
    }
   ],
   "source": [
    "print(generate_character_type_sequence(16))"
   ]
  },
  {
   "cell_type": "code",
   "execution_count": 34,
   "id": "159b02bc",
   "metadata": {},
   "outputs": [
    {
     "name": "stdout",
     "output_type": "stream",
     "text": [
      "['Lowercase', 'Lowercase', 'Lowercase', 'Number', 'Number', 'Number', 'Special', 'Special', 'Special', 'Special', 'Uppercase', 'Uppercase']\n"
     ]
    }
   ],
   "source": [
    "print(sorted(generate_character_type_sequence(12)))"
   ]
  },
  {
   "cell_type": "code",
   "execution_count": 76,
   "id": "89fee8be",
   "metadata": {},
   "outputs": [
    {
     "name": "stdout",
     "output_type": "stream",
     "text": [
      "3\n"
     ]
    },
    {
     "data": {
      "text/plain": [
       "Counter({1: 40, 4: 28, 2: 16, 3: 16})"
      ]
     },
     "execution_count": 76,
     "metadata": {},
     "output_type": "execute_result"
    }
   ],
   "source": [
    "print(rng)\n",
    "Counter(test)"
   ]
  },
  {
   "cell_type": "code",
   "execution_count": 46,
   "id": "25dc3295",
   "metadata": {},
   "outputs": [],
   "source": [
    "def make_random_password(sequence, character_length):\n",
    "    password = \"\"\n",
    "    current_chartype = sequence[0]\n",
    "    current_character = np.random.choice(character_type_df[character_type_df['Character Type'] == current_chartype]['Character'])\n",
    "    password += current_character\n",
    "    for i in range(1, character_length):\n",
    "        filtered_df = character_info_df[(character_info_df['Start Character'] == current_character) & (character_info_df['Character Type'] == sequence[i])]\n",
    "        current_character = np.random.choice(filtered_df['End Character'])\n",
    "        password += current_character\n",
    "    return password"
   ]
  },
  {
   "cell_type": "code",
   "execution_count": 42,
   "id": "3eb9c8bd",
   "metadata": {},
   "outputs": [
    {
     "data": {
      "text/html": [
       "<div>\n",
       "<style scoped>\n",
       "    .dataframe tbody tr th:only-of-type {\n",
       "        vertical-align: middle;\n",
       "    }\n",
       "\n",
       "    .dataframe tbody tr th {\n",
       "        vertical-align: top;\n",
       "    }\n",
       "\n",
       "    .dataframe thead th {\n",
       "        text-align: right;\n",
       "    }\n",
       "</style>\n",
       "<table border=\"1\" class=\"dataframe\">\n",
       "  <thead>\n",
       "    <tr style=\"text-align: right;\">\n",
       "      <th></th>\n",
       "      <th>Character</th>\n",
       "      <th>Character Type</th>\n",
       "    </tr>\n",
       "  </thead>\n",
       "  <tbody>\n",
       "    <tr>\n",
       "      <th>0</th>\n",
       "      <td>!</td>\n",
       "      <td>Special</td>\n",
       "    </tr>\n",
       "    <tr>\n",
       "      <th>1</th>\n",
       "      <td>#</td>\n",
       "      <td>Special</td>\n",
       "    </tr>\n",
       "    <tr>\n",
       "      <th>2</th>\n",
       "      <td>$</td>\n",
       "      <td>Special</td>\n",
       "    </tr>\n",
       "    <tr>\n",
       "      <th>3</th>\n",
       "      <td>%</td>\n",
       "      <td>Special</td>\n",
       "    </tr>\n",
       "    <tr>\n",
       "      <th>4</th>\n",
       "      <td>&amp;</td>\n",
       "      <td>Special</td>\n",
       "    </tr>\n",
       "    <tr>\n",
       "      <th>...</th>\n",
       "      <td>...</td>\n",
       "      <td>...</td>\n",
       "    </tr>\n",
       "    <tr>\n",
       "      <th>69</th>\n",
       "      <td>v</td>\n",
       "      <td>Lowercase</td>\n",
       "    </tr>\n",
       "    <tr>\n",
       "      <th>70</th>\n",
       "      <td>w</td>\n",
       "      <td>Lowercase</td>\n",
       "    </tr>\n",
       "    <tr>\n",
       "      <th>71</th>\n",
       "      <td>x</td>\n",
       "      <td>Lowercase</td>\n",
       "    </tr>\n",
       "    <tr>\n",
       "      <th>72</th>\n",
       "      <td>y</td>\n",
       "      <td>Lowercase</td>\n",
       "    </tr>\n",
       "    <tr>\n",
       "      <th>73</th>\n",
       "      <td>z</td>\n",
       "      <td>Lowercase</td>\n",
       "    </tr>\n",
       "  </tbody>\n",
       "</table>\n",
       "<p>74 rows × 2 columns</p>\n",
       "</div>"
      ],
      "text/plain": [
       "   Character Character Type\n",
       "0          !        Special\n",
       "1          #        Special\n",
       "2          $        Special\n",
       "3          %        Special\n",
       "4          &        Special\n",
       "..       ...            ...\n",
       "69         v      Lowercase\n",
       "70         w      Lowercase\n",
       "71         x      Lowercase\n",
       "72         y      Lowercase\n",
       "73         z      Lowercase\n",
       "\n",
       "[74 rows x 2 columns]"
      ]
     },
     "execution_count": 42,
     "metadata": {},
     "output_type": "execute_result"
    }
   ],
   "source": [
    "character_type_df"
   ]
  },
  {
   "cell_type": "code",
   "execution_count": 43,
   "id": "ea86a011",
   "metadata": {},
   "outputs": [
    {
     "data": {
      "text/html": [
       "<div>\n",
       "<style scoped>\n",
       "    .dataframe tbody tr th:only-of-type {\n",
       "        vertical-align: middle;\n",
       "    }\n",
       "\n",
       "    .dataframe tbody tr th {\n",
       "        vertical-align: top;\n",
       "    }\n",
       "\n",
       "    .dataframe thead th {\n",
       "        text-align: right;\n",
       "    }\n",
       "</style>\n",
       "<table border=\"1\" class=\"dataframe\">\n",
       "  <thead>\n",
       "    <tr style=\"text-align: right;\">\n",
       "      <th></th>\n",
       "      <th>Start Character</th>\n",
       "      <th>End Character</th>\n",
       "      <th>Distance</th>\n",
       "    </tr>\n",
       "  </thead>\n",
       "  <tbody>\n",
       "    <tr>\n",
       "      <th>0</th>\n",
       "      <td>!</td>\n",
       "      <td>#</td>\n",
       "      <td>2</td>\n",
       "    </tr>\n",
       "    <tr>\n",
       "      <th>1</th>\n",
       "      <td>!</td>\n",
       "      <td>$</td>\n",
       "      <td>3</td>\n",
       "    </tr>\n",
       "    <tr>\n",
       "      <th>2</th>\n",
       "      <td>!</td>\n",
       "      <td>%</td>\n",
       "      <td>4</td>\n",
       "    </tr>\n",
       "    <tr>\n",
       "      <th>3</th>\n",
       "      <td>!</td>\n",
       "      <td>&amp;</td>\n",
       "      <td>6</td>\n",
       "    </tr>\n",
       "    <tr>\n",
       "      <th>4</th>\n",
       "      <td>!</td>\n",
       "      <td>*</td>\n",
       "      <td>7</td>\n",
       "    </tr>\n",
       "    <tr>\n",
       "      <th>...</th>\n",
       "      <td>...</td>\n",
       "      <td>...</td>\n",
       "      <td>...</td>\n",
       "    </tr>\n",
       "    <tr>\n",
       "      <th>5397</th>\n",
       "      <td>z</td>\n",
       "      <td>u</td>\n",
       "      <td>8</td>\n",
       "    </tr>\n",
       "    <tr>\n",
       "      <th>5398</th>\n",
       "      <td>z</td>\n",
       "      <td>v</td>\n",
       "      <td>3</td>\n",
       "    </tr>\n",
       "    <tr>\n",
       "      <th>5399</th>\n",
       "      <td>z</td>\n",
       "      <td>w</td>\n",
       "      <td>3</td>\n",
       "    </tr>\n",
       "    <tr>\n",
       "      <th>5400</th>\n",
       "      <td>z</td>\n",
       "      <td>x</td>\n",
       "      <td>1</td>\n",
       "    </tr>\n",
       "    <tr>\n",
       "      <th>5401</th>\n",
       "      <td>z</td>\n",
       "      <td>y</td>\n",
       "      <td>7</td>\n",
       "    </tr>\n",
       "  </tbody>\n",
       "</table>\n",
       "<p>5402 rows × 3 columns</p>\n",
       "</div>"
      ],
      "text/plain": [
       "     Start Character End Character  Distance\n",
       "0                  !             #         2\n",
       "1                  !             $         3\n",
       "2                  !             %         4\n",
       "3                  !             &         6\n",
       "4                  !             *         7\n",
       "...              ...           ...       ...\n",
       "5397               z             u         8\n",
       "5398               z             v         3\n",
       "5399               z             w         3\n",
       "5400               z             x         1\n",
       "5401               z             y         7\n",
       "\n",
       "[5402 rows x 3 columns]"
      ]
     },
     "execution_count": 43,
     "metadata": {},
     "output_type": "execute_result"
    }
   ],
   "source": [
    "character_distance_df"
   ]
  },
  {
   "cell_type": "code",
   "execution_count": 50,
   "id": "98ad4b5f",
   "metadata": {},
   "outputs": [
    {
     "data": {
      "text/html": [
       "<div>\n",
       "<style scoped>\n",
       "    .dataframe tbody tr th:only-of-type {\n",
       "        vertical-align: middle;\n",
       "    }\n",
       "\n",
       "    .dataframe tbody tr th {\n",
       "        vertical-align: top;\n",
       "    }\n",
       "\n",
       "    .dataframe thead th {\n",
       "        text-align: right;\n",
       "    }\n",
       "</style>\n",
       "<table border=\"1\" class=\"dataframe\">\n",
       "  <thead>\n",
       "    <tr style=\"text-align: right;\">\n",
       "      <th></th>\n",
       "      <th>Start Character</th>\n",
       "      <th>End Character</th>\n",
       "      <th>Distance</th>\n",
       "      <th>Character</th>\n",
       "      <th>Character Type</th>\n",
       "    </tr>\n",
       "  </thead>\n",
       "  <tbody>\n",
       "    <tr>\n",
       "      <th>0</th>\n",
       "      <td>!</td>\n",
       "      <td>#</td>\n",
       "      <td>2</td>\n",
       "      <td>#</td>\n",
       "      <td>Special</td>\n",
       "    </tr>\n",
       "    <tr>\n",
       "      <th>1</th>\n",
       "      <td>!</td>\n",
       "      <td>$</td>\n",
       "      <td>3</td>\n",
       "      <td>$</td>\n",
       "      <td>Special</td>\n",
       "    </tr>\n",
       "    <tr>\n",
       "      <th>2</th>\n",
       "      <td>!</td>\n",
       "      <td>%</td>\n",
       "      <td>4</td>\n",
       "      <td>%</td>\n",
       "      <td>Special</td>\n",
       "    </tr>\n",
       "    <tr>\n",
       "      <th>3</th>\n",
       "      <td>!</td>\n",
       "      <td>&amp;</td>\n",
       "      <td>6</td>\n",
       "      <td>&amp;</td>\n",
       "      <td>Special</td>\n",
       "    </tr>\n",
       "    <tr>\n",
       "      <th>4</th>\n",
       "      <td>!</td>\n",
       "      <td>*</td>\n",
       "      <td>7</td>\n",
       "      <td>*</td>\n",
       "      <td>Special</td>\n",
       "    </tr>\n",
       "    <tr>\n",
       "      <th>...</th>\n",
       "      <td>...</td>\n",
       "      <td>...</td>\n",
       "      <td>...</td>\n",
       "      <td>...</td>\n",
       "      <td>...</td>\n",
       "    </tr>\n",
       "    <tr>\n",
       "      <th>5397</th>\n",
       "      <td>z</td>\n",
       "      <td>u</td>\n",
       "      <td>8</td>\n",
       "      <td>u</td>\n",
       "      <td>Lowercase</td>\n",
       "    </tr>\n",
       "    <tr>\n",
       "      <th>5398</th>\n",
       "      <td>z</td>\n",
       "      <td>v</td>\n",
       "      <td>3</td>\n",
       "      <td>v</td>\n",
       "      <td>Lowercase</td>\n",
       "    </tr>\n",
       "    <tr>\n",
       "      <th>5399</th>\n",
       "      <td>z</td>\n",
       "      <td>w</td>\n",
       "      <td>3</td>\n",
       "      <td>w</td>\n",
       "      <td>Lowercase</td>\n",
       "    </tr>\n",
       "    <tr>\n",
       "      <th>5400</th>\n",
       "      <td>z</td>\n",
       "      <td>x</td>\n",
       "      <td>1</td>\n",
       "      <td>x</td>\n",
       "      <td>Lowercase</td>\n",
       "    </tr>\n",
       "    <tr>\n",
       "      <th>5401</th>\n",
       "      <td>z</td>\n",
       "      <td>y</td>\n",
       "      <td>7</td>\n",
       "      <td>y</td>\n",
       "      <td>Lowercase</td>\n",
       "    </tr>\n",
       "  </tbody>\n",
       "</table>\n",
       "<p>5402 rows × 5 columns</p>\n",
       "</div>"
      ],
      "text/plain": [
       "     Start Character End Character  Distance Character Character Type\n",
       "0                  !             #         2         #        Special\n",
       "1                  !             $         3         $        Special\n",
       "2                  !             %         4         %        Special\n",
       "3                  !             &         6         &        Special\n",
       "4                  !             *         7         *        Special\n",
       "...              ...           ...       ...       ...            ...\n",
       "5397               z             u         8         u      Lowercase\n",
       "5398               z             v         3         v      Lowercase\n",
       "5399               z             w         3         w      Lowercase\n",
       "5400               z             x         1         x      Lowercase\n",
       "5401               z             y         7         y      Lowercase\n",
       "\n",
       "[5402 rows x 5 columns]"
      ]
     },
     "execution_count": 50,
     "metadata": {},
     "output_type": "execute_result"
    }
   ],
   "source": [
    "character_info_df"
   ]
  },
  {
   "cell_type": "code",
   "execution_count": 55,
   "id": "daa52f54",
   "metadata": {},
   "outputs": [
    {
     "data": {
      "text/plain": [
       "'cD6nR#;p'"
      ]
     },
     "execution_count": 55,
     "metadata": {},
     "output_type": "execute_result"
    }
   ],
   "source": [
    "make_random_password(generate_character_type_sequence(8), 8)"
   ]
  },
  {
   "cell_type": "code",
   "execution_count": 64,
   "id": "ed5b5a55",
   "metadata": {},
   "outputs": [
    {
     "data": {
      "text/plain": [
       "'A3kl&E^3H'"
      ]
     },
     "execution_count": 64,
     "metadata": {},
     "output_type": "execute_result"
    }
   ],
   "source": [
    "make_random_password(generate_character_type_sequence(9), 9)"
   ]
  },
  {
   "cell_type": "code",
   "execution_count": 65,
   "id": "d900be60",
   "metadata": {},
   "outputs": [
    {
     "data": {
      "text/plain": [
       "Character\n",
       "#    73\n",
       "$    73\n",
       "%    73\n",
       "&    73\n",
       "*    73\n",
       "     ..\n",
       "w    73\n",
       "x    73\n",
       "y    73\n",
       "z    73\n",
       "!    73\n",
       "Name: count, Length: 74, dtype: int64"
      ]
     },
     "execution_count": 65,
     "metadata": {},
     "output_type": "execute_result"
    }
   ],
   "source": [
    "character_info_df['Character'].value_counts()"
   ]
  },
  {
   "cell_type": "code",
   "execution_count": 66,
   "id": "066a6ffc",
   "metadata": {},
   "outputs": [],
   "source": [
    "check = character_info_df.copy().sort_values(by=['Start Character', 'Distance'])"
   ]
  },
  {
   "cell_type": "code",
   "execution_count": 67,
   "id": "4924a010",
   "metadata": {},
   "outputs": [
    {
     "data": {
      "text/html": [
       "<div>\n",
       "<style scoped>\n",
       "    .dataframe tbody tr th:only-of-type {\n",
       "        vertical-align: middle;\n",
       "    }\n",
       "\n",
       "    .dataframe tbody tr th {\n",
       "        vertical-align: top;\n",
       "    }\n",
       "\n",
       "    .dataframe thead th {\n",
       "        text-align: right;\n",
       "    }\n",
       "</style>\n",
       "<table border=\"1\" class=\"dataframe\">\n",
       "  <thead>\n",
       "    <tr style=\"text-align: right;\">\n",
       "      <th></th>\n",
       "      <th>Start Character</th>\n",
       "      <th>End Character</th>\n",
       "      <th>Distance</th>\n",
       "      <th>Character</th>\n",
       "      <th>Character Type</th>\n",
       "    </tr>\n",
       "  </thead>\n",
       "  <tbody>\n",
       "    <tr>\n",
       "      <th>7</th>\n",
       "      <td>!</td>\n",
       "      <td>1</td>\n",
       "      <td>0</td>\n",
       "      <td>1</td>\n",
       "      <td>Number</td>\n",
       "    </tr>\n",
       "    <tr>\n",
       "      <th>8</th>\n",
       "      <td>!</td>\n",
       "      <td>2</td>\n",
       "      <td>1</td>\n",
       "      <td>2</td>\n",
       "      <td>Number</td>\n",
       "    </tr>\n",
       "    <tr>\n",
       "      <th>19</th>\n",
       "      <td>!</td>\n",
       "      <td>@</td>\n",
       "      <td>1</td>\n",
       "      <td>@</td>\n",
       "      <td>Special</td>\n",
       "    </tr>\n",
       "    <tr>\n",
       "      <th>36</th>\n",
       "      <td>!</td>\n",
       "      <td>Q</td>\n",
       "      <td>1</td>\n",
       "      <td>Q</td>\n",
       "      <td>Uppercase</td>\n",
       "    </tr>\n",
       "    <tr>\n",
       "      <th>63</th>\n",
       "      <td>!</td>\n",
       "      <td>q</td>\n",
       "      <td>1</td>\n",
       "      <td>q</td>\n",
       "      <td>Lowercase</td>\n",
       "    </tr>\n",
       "    <tr>\n",
       "      <th>...</th>\n",
       "      <td>...</td>\n",
       "      <td>...</td>\n",
       "      <td>...</td>\n",
       "      <td>...</td>\n",
       "      <td>...</td>\n",
       "    </tr>\n",
       "    <tr>\n",
       "      <th>5365</th>\n",
       "      <td>z</td>\n",
       "      <td>P</td>\n",
       "      <td>11</td>\n",
       "      <td>P</td>\n",
       "      <td>Uppercase</td>\n",
       "    </tr>\n",
       "    <tr>\n",
       "      <th>5392</th>\n",
       "      <td>z</td>\n",
       "      <td>p</td>\n",
       "      <td>11</td>\n",
       "      <td>p</td>\n",
       "      <td>Lowercase</td>\n",
       "    </tr>\n",
       "    <tr>\n",
       "      <th>5336</th>\n",
       "      <td>z</td>\n",
       "      <td>0</td>\n",
       "      <td>12</td>\n",
       "      <td>0</td>\n",
       "      <td>Number</td>\n",
       "    </tr>\n",
       "    <tr>\n",
       "      <th>5335</th>\n",
       "      <td>z</td>\n",
       "      <td>+</td>\n",
       "      <td>14</td>\n",
       "      <td>+</td>\n",
       "      <td>Special</td>\n",
       "    </tr>\n",
       "    <tr>\n",
       "      <th>5348</th>\n",
       "      <td>z</td>\n",
       "      <td>=</td>\n",
       "      <td>14</td>\n",
       "      <td>=</td>\n",
       "      <td>Special</td>\n",
       "    </tr>\n",
       "  </tbody>\n",
       "</table>\n",
       "<p>5402 rows × 5 columns</p>\n",
       "</div>"
      ],
      "text/plain": [
       "     Start Character End Character  Distance Character Character Type\n",
       "7                  !             1         0         1         Number\n",
       "8                  !             2         1         2         Number\n",
       "19                 !             @         1         @        Special\n",
       "36                 !             Q         1         Q      Uppercase\n",
       "63                 !             q         1         q      Lowercase\n",
       "...              ...           ...       ...       ...            ...\n",
       "5365               z             P        11         P      Uppercase\n",
       "5392               z             p        11         p      Lowercase\n",
       "5336               z             0        12         0         Number\n",
       "5335               z             +        14         +        Special\n",
       "5348               z             =        14         =        Special\n",
       "\n",
       "[5402 rows x 5 columns]"
      ]
     },
     "execution_count": 67,
     "metadata": {},
     "output_type": "execute_result"
    }
   ],
   "source": [
    "check"
   ]
  },
  {
   "cell_type": "code",
   "execution_count": 68,
   "id": "8d6dfde1",
   "metadata": {},
   "outputs": [
    {
     "data": {
      "text/plain": [
       "Distance\n",
       "3     840\n",
       "4     808\n",
       "2     736\n",
       "5     692\n",
       "6     568\n",
       "1     462\n",
       "7     440\n",
       "8     328\n",
       "9     220\n",
       "10    124\n",
       "0      72\n",
       "11     60\n",
       "12     28\n",
       "13     16\n",
       "14      8\n",
       "Name: count, dtype: int64"
      ]
     },
     "execution_count": 68,
     "metadata": {},
     "output_type": "execute_result"
    }
   ],
   "source": [
    "check['Distance'].value_counts()"
   ]
  },
  {
   "cell_type": "code",
   "execution_count": 71,
   "id": "f92c6e1a",
   "metadata": {},
   "outputs": [
    {
     "data": {
      "text/plain": [
       "3"
      ]
     },
     "execution_count": 71,
     "metadata": {},
     "output_type": "execute_result"
    }
   ],
   "source": [
    "check['Distance'].value_counts().keys()[0].item()"
   ]
  },
  {
   "cell_type": "markdown",
   "id": "c5542003",
   "metadata": {},
   "source": [
    "Equation for probability density function for skew normal distribution:\n",
    "2/sqrt(2pi)*e^(-(x-E)^2/2w^2)/w"
   ]
  },
  {
   "cell_type": "code",
   "execution_count": null,
   "id": "f9bfb840",
   "metadata": {},
   "outputs": [],
   "source": [
    "def check_pdf(x, location, scale):\n",
    "    return 2/m.sqrt(2*m.pi)*m.e**(-((x-location)**2)/(2*scale**2))/scale"
   ]
  },
  {
   "cell_type": "code",
   "execution_count": 72,
   "id": "3e63969b",
   "metadata": {},
   "outputs": [],
   "source": [
    "def pdf(x, location, scale):\n",
    "    return 0.8*m.exp(-((x-location)**2)/(2*scale**2))/scale"
   ]
  },
  {
   "cell_type": "code",
   "execution_count": 103,
   "id": "f63cb5d3",
   "metadata": {},
   "outputs": [
    {
     "name": "stdout",
     "output_type": "stream",
     "text": [
      "x=1, pdf=0.16\n",
      "x=2, pdf=0.15683178772908085\n",
      "x=3, pdf=0.14769861542186175\n",
      "x=4, pdf=0.1336432338258035\n",
      "x=5, pdf=0.11618384593179057\n",
      "x=6, pdf=0.09704490555402136\n",
      "x=7, pdf=0.07788036095359548\n",
      "x=8, pdf=0.060049775816223935\n",
      "x=9, pdf=0.04448596807251106\n",
      "x=10, pdf=0.03166379185337835\n",
      "x=11, pdf=0.021653645317858034\n",
      "x=12, pdf=0.014227458793501815\n",
      "x=13, pdf=0.008981562053461397\n",
      "x=14, pdf=0.005447592757535895\n"
     ]
    }
   ],
   "source": [
    "for i in range(1, 15):\n",
    "    print(f\"x={i}, pdf={pdf(i, 1, 5)}\")"
   ]
  },
  {
   "cell_type": "code",
   "execution_count": 74,
   "id": "4ce70c4d",
   "metadata": {},
   "outputs": [],
   "source": [
    "def npdf(x):\n",
    "    return 0.4*m.exp(-(x**2)/2)"
   ]
  },
  {
   "cell_type": "code",
   "execution_count": 76,
   "id": "5c892b53",
   "metadata": {},
   "outputs": [
    {
     "name": "stdout",
     "output_type": "stream",
     "text": [
      "x=-15, npdf=5.545373174564683e-50\n",
      "x=-14, npdf=1.0995140031640859e-43\n",
      "x=-13, npdf=8.020035127846617e-38\n",
      "x=-12, npdf=2.1520744640084554e-32\n",
      "x=-11, npdf=2.1244368998716383e-27\n",
      "x=-10, npdf=7.714999391855672e-23\n",
      "x=-9, npdf=1.0307028436619925e-18\n",
      "x=-8, npdf=5.065666219637671e-15\n",
      "x=-7, npdf=9.158939382582212e-12\n",
      "x=-6, npdf=6.091991897885052e-09\n",
      "x=-5, npdf=1.4906612688314684e-06\n",
      "x=-4, npdf=0.00013418505116100476\n",
      "x=-3, npdf=0.004443598615296923\n",
      "x=-2, npdf=0.054134113294645084\n",
      "x=-1, npdf=0.2426122638850534\n",
      "x=0, npdf=0.4\n",
      "x=1, npdf=0.2426122638850534\n",
      "x=2, npdf=0.054134113294645084\n",
      "x=3, npdf=0.004443598615296923\n",
      "x=4, npdf=0.00013418505116100476\n",
      "x=5, npdf=1.4906612688314684e-06\n",
      "x=6, npdf=6.091991897885052e-09\n",
      "x=7, npdf=9.158939382582212e-12\n",
      "x=8, npdf=5.065666219637671e-15\n",
      "x=9, npdf=1.0307028436619925e-18\n",
      "x=10, npdf=7.714999391855672e-23\n",
      "x=11, npdf=2.1244368998716383e-27\n",
      "x=12, npdf=2.1520744640084554e-32\n",
      "x=13, npdf=8.020035127846617e-38\n",
      "x=14, npdf=1.0995140031640859e-43\n"
     ]
    }
   ],
   "source": [
    "for i in range(-15, 15):\n",
    "    print(f\"x={i}, npdf={npdf(i)}\")"
   ]
  },
  {
   "cell_type": "code",
   "execution_count": 84,
   "id": "714912c6",
   "metadata": {},
   "outputs": [
    {
     "name": "stdout",
     "output_type": "stream",
     "text": [
      "1.0025141366411519\n"
     ]
    }
   ],
   "source": [
    "val = 0\n",
    "for i in range(-4, 4):\n",
    "    val += npdf(i)\n",
    "print(val)"
   ]
  },
  {
   "cell_type": "code",
   "execution_count": 104,
   "id": "badf883c",
   "metadata": {},
   "outputs": [
    {
     "name": "stdout",
     "output_type": "stream",
     "text": [
      "1.075792544080624\n"
     ]
    }
   ],
   "source": [
    "val = 0\n",
    "for i in range(1, 15):\n",
    "    val += pdf(i, 1, 5)\n",
    "    # print(val)\n",
    "print(val)"
   ]
  },
  {
   "cell_type": "code",
   "execution_count": 105,
   "id": "3e55f3ec",
   "metadata": {},
   "outputs": [],
   "source": [
    "skew_prob_check = [pdf(i, 1, 5) for i in range(1, 15)]"
   ]
  },
  {
   "cell_type": "code",
   "execution_count": 106,
   "id": "416af711",
   "metadata": {},
   "outputs": [
    {
     "data": {
      "text/plain": [
       "[0.16,\n",
       " 0.15683178772908085,\n",
       " 0.14769861542186175,\n",
       " 0.1336432338258035,\n",
       " 0.11618384593179057,\n",
       " 0.09704490555402136,\n",
       " 0.07788036095359548,\n",
       " 0.060049775816223935,\n",
       " 0.04448596807251106,\n",
       " 0.03166379185337835,\n",
       " 0.021653645317858034,\n",
       " 0.014227458793501815,\n",
       " 0.008981562053461397,\n",
       " 0.005447592757535895]"
      ]
     },
     "execution_count": 106,
     "metadata": {},
     "output_type": "execute_result"
    }
   ],
   "source": [
    "skew_prob_check"
   ]
  },
  {
   "cell_type": "code",
   "execution_count": 107,
   "id": "bc707d84",
   "metadata": {},
   "outputs": [],
   "source": [
    "norm_skew_prob_check = skew_prob_check/np.sum(skew_prob_check)"
   ]
  },
  {
   "cell_type": "code",
   "execution_count": 108,
   "id": "280ea10f",
   "metadata": {},
   "outputs": [
    {
     "data": {
      "text/plain": [
       "array([0.14872756, 0.14578256, 0.13729284, 0.1242277 , 0.10799837,\n",
       "       0.09020783, 0.07239348, 0.0558191 , 0.04135181, 0.02943299,\n",
       "       0.02012809, 0.0132251 , 0.00834879, 0.00506379])"
      ]
     },
     "execution_count": 108,
     "metadata": {},
     "output_type": "execute_result"
    }
   ],
   "source": [
    "norm_skew_prob_check"
   ]
  },
  {
   "cell_type": "code",
   "execution_count": 109,
   "id": "4def504c",
   "metadata": {},
   "outputs": [
    {
     "data": {
      "text/plain": [
       "np.float64(1.0)"
      ]
     },
     "execution_count": 109,
     "metadata": {},
     "output_type": "execute_result"
    }
   ],
   "source": [
    "np.sum(norm_skew_prob_check)"
   ]
  },
  {
   "cell_type": "code",
   "execution_count": null,
   "id": "2cf27cea",
   "metadata": {},
   "outputs": [],
   "source": []
  },
  {
   "cell_type": "code",
   "execution_count": null,
   "id": "693faee4",
   "metadata": {},
   "outputs": [],
   "source": [
    "scale = 1\n",
    "location = 2\n",
    "pdf = "
   ]
  },
  {
   "cell_type": "code",
   "execution_count": null,
   "id": "14c4cf07",
   "metadata": {},
   "outputs": [],
   "source": []
  }
 ],
 "metadata": {
  "kernelspec": {
   "display_name": ".venv (3.13.6)",
   "language": "python",
   "name": "python3"
  },
  "language_info": {
   "codemirror_mode": {
    "name": "ipython",
    "version": 3
   },
   "file_extension": ".py",
   "mimetype": "text/x-python",
   "name": "python",
   "nbconvert_exporter": "python",
   "pygments_lexer": "ipython3",
   "version": "3.13.6"
  }
 },
 "nbformat": 4,
 "nbformat_minor": 5
}
