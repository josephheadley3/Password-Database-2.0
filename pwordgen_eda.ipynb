{
 "cells": [
  {
   "cell_type": "code",
   "execution_count": 1,
   "id": "e6c2df69",
   "metadata": {},
   "outputs": [],
   "source": [
    "import pandas as pd\n",
    "import numpy as np\n",
    "import math as m\n",
    "from collections import Counter"
   ]
  },
  {
   "cell_type": "markdown",
   "id": "7d51bc2d",
   "metadata": {},
   "source": [
    "## Generate Dataframe of Keyboard Characters"
   ]
  },
  {
   "cell_type": "code",
   "execution_count": 2,
   "id": "50a469a8",
   "metadata": {},
   "outputs": [
    {
     "name": "stdout",
     "output_type": "stream",
     "text": [
      "['!', '#', '$', '%', '&', '*', '+', '0', '1', '2', '3', '4', '5', '6', '7', '8', '9', ':', ';', '=', '@', 'A', 'B', 'C', 'D', 'E', 'F', 'G', 'H', 'I', 'J', 'K', 'L', 'M', 'N', 'O', 'P', 'Q', 'R', 'S', 'T', 'U', 'V', 'W', 'X', 'Y', 'Z', '^', 'a', 'b', 'c', 'd', 'e', 'f', 'g', 'h', 'i', 'j', 'k', 'l', 'm', 'n', 'o', 'p', 'q', 'r', 's', 't', 'u', 'v', 'w', 'x', 'y', 'z']\n"
     ]
    }
   ],
   "source": [
    "characters = \"\"\n",
    "separated_characters = \"\"\n",
    "for i in range(33,123):\n",
    "    characters += chr(i)\n",
    "for char in \"`.,?-_[]{}<>()|'\\\"\\\\/\":\n",
    "    characters = characters.replace(char, '')\n",
    "for char in characters:\n",
    "    char += ' '\n",
    "    separated_characters += char\n",
    "character_list = separated_characters.split(' ')\n",
    "character_list.remove('')\n",
    "print(character_list)"
   ]
  },
  {
   "cell_type": "code",
   "execution_count": 3,
   "id": "5fc608b6",
   "metadata": {},
   "outputs": [],
   "source": [
    "def give_type(character):\n",
    "    if character.isnumeric():\n",
    "        return 'Number'\n",
    "    elif character.islower():\n",
    "        return 'Lowercase'\n",
    "    elif character.isupper():\n",
    "        return 'Uppercase'\n",
    "    else:\n",
    "        return 'Special'"
   ]
  },
  {
   "cell_type": "code",
   "execution_count": 4,
   "id": "567fbf3a",
   "metadata": {},
   "outputs": [],
   "source": [
    "character_type_df = pd.DataFrame(character_list, columns=['Character'])\n",
    "character_type_df['Character Type'] = character_type_df['Character'].apply(give_type)"
   ]
  },
  {
   "cell_type": "code",
   "execution_count": 5,
   "id": "85a20607",
   "metadata": {},
   "outputs": [
    {
     "data": {
      "text/html": [
       "<div>\n",
       "<style scoped>\n",
       "    .dataframe tbody tr th:only-of-type {\n",
       "        vertical-align: middle;\n",
       "    }\n",
       "\n",
       "    .dataframe tbody tr th {\n",
       "        vertical-align: top;\n",
       "    }\n",
       "\n",
       "    .dataframe thead th {\n",
       "        text-align: right;\n",
       "    }\n",
       "</style>\n",
       "<table border=\"1\" class=\"dataframe\">\n",
       "  <thead>\n",
       "    <tr style=\"text-align: right;\">\n",
       "      <th></th>\n",
       "      <th>Character</th>\n",
       "      <th>Character Type</th>\n",
       "    </tr>\n",
       "  </thead>\n",
       "  <tbody>\n",
       "    <tr>\n",
       "      <th>0</th>\n",
       "      <td>!</td>\n",
       "      <td>Special</td>\n",
       "    </tr>\n",
       "    <tr>\n",
       "      <th>1</th>\n",
       "      <td>#</td>\n",
       "      <td>Special</td>\n",
       "    </tr>\n",
       "    <tr>\n",
       "      <th>2</th>\n",
       "      <td>$</td>\n",
       "      <td>Special</td>\n",
       "    </tr>\n",
       "    <tr>\n",
       "      <th>3</th>\n",
       "      <td>%</td>\n",
       "      <td>Special</td>\n",
       "    </tr>\n",
       "    <tr>\n",
       "      <th>4</th>\n",
       "      <td>&amp;</td>\n",
       "      <td>Special</td>\n",
       "    </tr>\n",
       "    <tr>\n",
       "      <th>...</th>\n",
       "      <td>...</td>\n",
       "      <td>...</td>\n",
       "    </tr>\n",
       "    <tr>\n",
       "      <th>69</th>\n",
       "      <td>v</td>\n",
       "      <td>Lowercase</td>\n",
       "    </tr>\n",
       "    <tr>\n",
       "      <th>70</th>\n",
       "      <td>w</td>\n",
       "      <td>Lowercase</td>\n",
       "    </tr>\n",
       "    <tr>\n",
       "      <th>71</th>\n",
       "      <td>x</td>\n",
       "      <td>Lowercase</td>\n",
       "    </tr>\n",
       "    <tr>\n",
       "      <th>72</th>\n",
       "      <td>y</td>\n",
       "      <td>Lowercase</td>\n",
       "    </tr>\n",
       "    <tr>\n",
       "      <th>73</th>\n",
       "      <td>z</td>\n",
       "      <td>Lowercase</td>\n",
       "    </tr>\n",
       "  </tbody>\n",
       "</table>\n",
       "<p>74 rows × 2 columns</p>\n",
       "</div>"
      ],
      "text/plain": [
       "   Character Character Type\n",
       "0          !        Special\n",
       "1          #        Special\n",
       "2          $        Special\n",
       "3          %        Special\n",
       "4          &        Special\n",
       "..       ...            ...\n",
       "69         v      Lowercase\n",
       "70         w      Lowercase\n",
       "71         x      Lowercase\n",
       "72         y      Lowercase\n",
       "73         z      Lowercase\n",
       "\n",
       "[74 rows x 2 columns]"
      ]
     },
     "execution_count": 5,
     "metadata": {},
     "output_type": "execute_result"
    }
   ],
   "source": [
    "character_type_df"
   ]
  },
  {
   "cell_type": "code",
   "execution_count": 6,
   "id": "e09ed02b",
   "metadata": {},
   "outputs": [
    {
     "data": {
      "text/plain": [
       "Character Type\n",
       "Lowercase    26\n",
       "Uppercase    26\n",
       "Special      12\n",
       "Number       10\n",
       "Name: count, dtype: int64"
      ]
     },
     "execution_count": 6,
     "metadata": {},
     "output_type": "execute_result"
    }
   ],
   "source": [
    "character_type_df['Character Type'].value_counts()"
   ]
  },
  {
   "cell_type": "markdown",
   "id": "25329340",
   "metadata": {},
   "source": [
    "## Generate Matrix with the Layout of Characters on a Keyboard"
   ]
  },
  {
   "cell_type": "code",
   "execution_count": 7,
   "id": "51741ee4",
   "metadata": {},
   "outputs": [],
   "source": [
    "keyboard_matrix = np.array([[['1','!'], ['2','@'], ['3','#'], ['4','$'], ['5','%'], ['6','^'], ['7','&'], ['8','*'], ['9','?'], ['0','?'], ['?','?'], ['=','+']],\n",
    "                 [['q','Q'], ['w','W'], ['e','E'], ['r','R'], ['t','T'], ['y','Y'], ['u','U'], ['i','I'], ['o','O'], ['p','P'], ['?','?'], ['?','?']],\n",
    "                 [['a','A'], ['s','S'], ['d','D'], ['f','F'], ['g','G'], ['h','H'], ['j','J'], ['k','K'], ['l','L'], [';',':'], ['?','?'], ['?','?']],\n",
    "                 [['z','Z'], ['x','X'], ['c','C'], ['v','V'], ['b','B'], ['n','N'], ['m','M'], ['?','?'], ['?','?'], ['?','?'], ['?','?'], ['?','?']]])"
   ]
  },
  {
   "cell_type": "code",
   "execution_count": 8,
   "id": "060232b3",
   "metadata": {},
   "outputs": [
    {
     "data": {
      "text/plain": [
       "array([['1', '!'],\n",
       "       ['2', '@'],\n",
       "       ['3', '#'],\n",
       "       ['4', '$'],\n",
       "       ['5', '%'],\n",
       "       ['6', '^'],\n",
       "       ['7', '&'],\n",
       "       ['8', '*'],\n",
       "       ['9', '?'],\n",
       "       ['0', '?'],\n",
       "       ['?', '?'],\n",
       "       ['=', '+']], dtype='<U1')"
      ]
     },
     "execution_count": 8,
     "metadata": {},
     "output_type": "execute_result"
    }
   ],
   "source": [
    "keyboard_matrix[0]"
   ]
  },
  {
   "cell_type": "code",
   "execution_count": 9,
   "id": "15563d00",
   "metadata": {},
   "outputs": [
    {
     "data": {
      "text/plain": [
       "(4, 12, 2)"
      ]
     },
     "execution_count": 9,
     "metadata": {},
     "output_type": "execute_result"
    }
   ],
   "source": [
    "keyboard_matrix.shape"
   ]
  },
  {
   "cell_type": "code",
   "execution_count": 10,
   "id": "13b5ee03",
   "metadata": {},
   "outputs": [
    {
     "data": {
      "text/plain": [
       "'f'"
      ]
     },
     "execution_count": 10,
     "metadata": {},
     "output_type": "execute_result"
    }
   ],
   "source": [
    "keyboard_matrix[np.where(keyboard_matrix == 'f')][0][0]"
   ]
  },
  {
   "cell_type": "code",
   "execution_count": 11,
   "id": "4d7f80fb",
   "metadata": {},
   "outputs": [
    {
     "data": {
      "text/plain": [
       "2"
      ]
     },
     "execution_count": 11,
     "metadata": {},
     "output_type": "execute_result"
    }
   ],
   "source": [
    "np.where(keyboard_matrix == 'f')[0][0].item()"
   ]
  },
  {
   "cell_type": "code",
   "execution_count": 12,
   "id": "9579affe",
   "metadata": {},
   "outputs": [
    {
     "data": {
      "text/plain": [
       "5"
      ]
     },
     "execution_count": 12,
     "metadata": {},
     "output_type": "execute_result"
    }
   ],
   "source": [
    "np.where(keyboard_matrix == 'f')[0][0].item()+np.where(keyboard_matrix == 'f')[1][0].item()"
   ]
  },
  {
   "cell_type": "code",
   "execution_count": 13,
   "id": "acf5d327",
   "metadata": {},
   "outputs": [
    {
     "data": {
      "text/plain": [
       "9120"
      ]
     },
     "execution_count": 13,
     "metadata": {},
     "output_type": "execute_result"
    }
   ],
   "source": [
    "96*95"
   ]
  },
  {
   "cell_type": "markdown",
   "id": "402ecf15",
   "metadata": {},
   "source": [
    "## Generate a Pandas Dataframe to Display the Manhattan Distance between Every Possible Pair of Characters"
   ]
  },
  {
   "cell_type": "code",
   "execution_count": 14,
   "id": "979a7665",
   "metadata": {},
   "outputs": [],
   "source": [
    "def make_matrix(list, array):\n",
    "    start_chars = []\n",
    "    end_chars = []\n",
    "    distances = []\n",
    "    for char in list:\n",
    "        for compchar in list:\n",
    "            if char == compchar:\n",
    "                continue\n",
    "            start_chars.append(char)\n",
    "            end_chars.append(compchar)\n",
    "            distances.append(abs(np.where(array == char)[0][0].item() - np.where(array == compchar)[0][0].item()) + abs(np.where(array == char)[1][0].item() - np.where(array == compchar)[1][0].item()))\n",
    "    return pd.DataFrame({'Start Character': start_chars, 'End Character': end_chars, 'Distance': distances})"
   ]
  },
  {
   "cell_type": "code",
   "execution_count": 15,
   "id": "610f6de4",
   "metadata": {},
   "outputs": [],
   "source": [
    "character_distance_df = make_matrix(character_list, keyboard_matrix)"
   ]
  },
  {
   "cell_type": "code",
   "execution_count": 16,
   "id": "e7a1b1d0",
   "metadata": {},
   "outputs": [
    {
     "data": {
      "text/html": [
       "<div>\n",
       "<style scoped>\n",
       "    .dataframe tbody tr th:only-of-type {\n",
       "        vertical-align: middle;\n",
       "    }\n",
       "\n",
       "    .dataframe tbody tr th {\n",
       "        vertical-align: top;\n",
       "    }\n",
       "\n",
       "    .dataframe thead th {\n",
       "        text-align: right;\n",
       "    }\n",
       "</style>\n",
       "<table border=\"1\" class=\"dataframe\">\n",
       "  <thead>\n",
       "    <tr style=\"text-align: right;\">\n",
       "      <th></th>\n",
       "      <th>Start Character</th>\n",
       "      <th>End Character</th>\n",
       "      <th>Distance</th>\n",
       "    </tr>\n",
       "  </thead>\n",
       "  <tbody>\n",
       "    <tr>\n",
       "      <th>0</th>\n",
       "      <td>!</td>\n",
       "      <td>#</td>\n",
       "      <td>2</td>\n",
       "    </tr>\n",
       "    <tr>\n",
       "      <th>1</th>\n",
       "      <td>!</td>\n",
       "      <td>$</td>\n",
       "      <td>3</td>\n",
       "    </tr>\n",
       "    <tr>\n",
       "      <th>2</th>\n",
       "      <td>!</td>\n",
       "      <td>%</td>\n",
       "      <td>4</td>\n",
       "    </tr>\n",
       "    <tr>\n",
       "      <th>3</th>\n",
       "      <td>!</td>\n",
       "      <td>&amp;</td>\n",
       "      <td>6</td>\n",
       "    </tr>\n",
       "    <tr>\n",
       "      <th>4</th>\n",
       "      <td>!</td>\n",
       "      <td>*</td>\n",
       "      <td>7</td>\n",
       "    </tr>\n",
       "    <tr>\n",
       "      <th>...</th>\n",
       "      <td>...</td>\n",
       "      <td>...</td>\n",
       "      <td>...</td>\n",
       "    </tr>\n",
       "    <tr>\n",
       "      <th>5397</th>\n",
       "      <td>z</td>\n",
       "      <td>u</td>\n",
       "      <td>8</td>\n",
       "    </tr>\n",
       "    <tr>\n",
       "      <th>5398</th>\n",
       "      <td>z</td>\n",
       "      <td>v</td>\n",
       "      <td>3</td>\n",
       "    </tr>\n",
       "    <tr>\n",
       "      <th>5399</th>\n",
       "      <td>z</td>\n",
       "      <td>w</td>\n",
       "      <td>3</td>\n",
       "    </tr>\n",
       "    <tr>\n",
       "      <th>5400</th>\n",
       "      <td>z</td>\n",
       "      <td>x</td>\n",
       "      <td>1</td>\n",
       "    </tr>\n",
       "    <tr>\n",
       "      <th>5401</th>\n",
       "      <td>z</td>\n",
       "      <td>y</td>\n",
       "      <td>7</td>\n",
       "    </tr>\n",
       "  </tbody>\n",
       "</table>\n",
       "<p>5402 rows × 3 columns</p>\n",
       "</div>"
      ],
      "text/plain": [
       "     Start Character End Character  Distance\n",
       "0                  !             #         2\n",
       "1                  !             $         3\n",
       "2                  !             %         4\n",
       "3                  !             &         6\n",
       "4                  !             *         7\n",
       "...              ...           ...       ...\n",
       "5397               z             u         8\n",
       "5398               z             v         3\n",
       "5399               z             w         3\n",
       "5400               z             x         1\n",
       "5401               z             y         7\n",
       "\n",
       "[5402 rows x 3 columns]"
      ]
     },
     "execution_count": 16,
     "metadata": {},
     "output_type": "execute_result"
    }
   ],
   "source": [
    "character_distance_df"
   ]
  },
  {
   "cell_type": "code",
   "execution_count": 17,
   "id": "327b7054",
   "metadata": {},
   "outputs": [
    {
     "data": {
      "text/html": [
       "<div>\n",
       "<style scoped>\n",
       "    .dataframe tbody tr th:only-of-type {\n",
       "        vertical-align: middle;\n",
       "    }\n",
       "\n",
       "    .dataframe tbody tr th {\n",
       "        vertical-align: top;\n",
       "    }\n",
       "\n",
       "    .dataframe thead th {\n",
       "        text-align: right;\n",
       "    }\n",
       "</style>\n",
       "<table border=\"1\" class=\"dataframe\">\n",
       "  <thead>\n",
       "    <tr style=\"text-align: right;\">\n",
       "      <th></th>\n",
       "      <th>Start Character</th>\n",
       "      <th>End Character</th>\n",
       "      <th>Distance</th>\n",
       "    </tr>\n",
       "  </thead>\n",
       "  <tbody>\n",
       "    <tr>\n",
       "      <th>7</th>\n",
       "      <td>!</td>\n",
       "      <td>1</td>\n",
       "      <td>0</td>\n",
       "    </tr>\n",
       "    <tr>\n",
       "      <th>82</th>\n",
       "      <td>#</td>\n",
       "      <td>3</td>\n",
       "      <td>0</td>\n",
       "    </tr>\n",
       "    <tr>\n",
       "      <th>156</th>\n",
       "      <td>$</td>\n",
       "      <td>4</td>\n",
       "      <td>0</td>\n",
       "    </tr>\n",
       "    <tr>\n",
       "      <th>230</th>\n",
       "      <td>%</td>\n",
       "      <td>5</td>\n",
       "      <td>0</td>\n",
       "    </tr>\n",
       "    <tr>\n",
       "      <th>305</th>\n",
       "      <td>&amp;</td>\n",
       "      <td>7</td>\n",
       "      <td>0</td>\n",
       "    </tr>\n",
       "    <tr>\n",
       "      <th>...</th>\n",
       "      <td>...</td>\n",
       "      <td>...</td>\n",
       "      <td>...</td>\n",
       "    </tr>\n",
       "    <tr>\n",
       "      <th>5079</th>\n",
       "      <td>v</td>\n",
       "      <td>V</td>\n",
       "      <td>0</td>\n",
       "    </tr>\n",
       "    <tr>\n",
       "      <th>5153</th>\n",
       "      <td>w</td>\n",
       "      <td>W</td>\n",
       "      <td>0</td>\n",
       "    </tr>\n",
       "    <tr>\n",
       "      <th>5227</th>\n",
       "      <td>x</td>\n",
       "      <td>X</td>\n",
       "      <td>0</td>\n",
       "    </tr>\n",
       "    <tr>\n",
       "      <th>5301</th>\n",
       "      <td>y</td>\n",
       "      <td>Y</td>\n",
       "      <td>0</td>\n",
       "    </tr>\n",
       "    <tr>\n",
       "      <th>5375</th>\n",
       "      <td>z</td>\n",
       "      <td>Z</td>\n",
       "      <td>0</td>\n",
       "    </tr>\n",
       "  </tbody>\n",
       "</table>\n",
       "<p>72 rows × 3 columns</p>\n",
       "</div>"
      ],
      "text/plain": [
       "     Start Character End Character  Distance\n",
       "7                  !             1         0\n",
       "82                 #             3         0\n",
       "156                $             4         0\n",
       "230                %             5         0\n",
       "305                &             7         0\n",
       "...              ...           ...       ...\n",
       "5079               v             V         0\n",
       "5153               w             W         0\n",
       "5227               x             X         0\n",
       "5301               y             Y         0\n",
       "5375               z             Z         0\n",
       "\n",
       "[72 rows x 3 columns]"
      ]
     },
     "execution_count": 17,
     "metadata": {},
     "output_type": "execute_result"
    }
   ],
   "source": [
    "character_distance_df[character_distance_df['Distance'] == 0]"
   ]
  },
  {
   "cell_type": "code",
   "execution_count": 18,
   "id": "becf6107",
   "metadata": {},
   "outputs": [
    {
     "data": {
      "text/html": [
       "<div>\n",
       "<style scoped>\n",
       "    .dataframe tbody tr th:only-of-type {\n",
       "        vertical-align: middle;\n",
       "    }\n",
       "\n",
       "    .dataframe tbody tr th {\n",
       "        vertical-align: top;\n",
       "    }\n",
       "\n",
       "    .dataframe thead th {\n",
       "        text-align: right;\n",
       "    }\n",
       "</style>\n",
       "<table border=\"1\" class=\"dataframe\">\n",
       "  <thead>\n",
       "    <tr style=\"text-align: right;\">\n",
       "      <th></th>\n",
       "      <th>Start Character</th>\n",
       "      <th>End Character</th>\n",
       "      <th>Distance</th>\n",
       "    </tr>\n",
       "  </thead>\n",
       "  <tbody>\n",
       "    <tr>\n",
       "      <th>453</th>\n",
       "      <td>+</td>\n",
       "      <td>9</td>\n",
       "      <td>3</td>\n",
       "    </tr>\n",
       "    <tr>\n",
       "      <th>473</th>\n",
       "      <td>+</td>\n",
       "      <td>P</td>\n",
       "      <td>3</td>\n",
       "    </tr>\n",
       "    <tr>\n",
       "      <th>500</th>\n",
       "      <td>+</td>\n",
       "      <td>p</td>\n",
       "      <td>3</td>\n",
       "    </tr>\n",
       "  </tbody>\n",
       "</table>\n",
       "</div>"
      ],
      "text/plain": [
       "    Start Character End Character  Distance\n",
       "453               +             9         3\n",
       "473               +             P         3\n",
       "500               +             p         3"
      ]
     },
     "execution_count": 18,
     "metadata": {},
     "output_type": "execute_result"
    }
   ],
   "source": [
    "character_distance_df[(character_distance_df['Start Character'] == '+')&(character_distance_df['Distance'] == 3)]"
   ]
  },
  {
   "cell_type": "code",
   "execution_count": 19,
   "id": "39457666",
   "metadata": {},
   "outputs": [
    {
     "data": {
      "text/html": [
       "<div>\n",
       "<style scoped>\n",
       "    .dataframe tbody tr th:only-of-type {\n",
       "        vertical-align: middle;\n",
       "    }\n",
       "\n",
       "    .dataframe tbody tr th {\n",
       "        vertical-align: top;\n",
       "    }\n",
       "\n",
       "    .dataframe thead th {\n",
       "        text-align: right;\n",
       "    }\n",
       "</style>\n",
       "<table border=\"1\" class=\"dataframe\">\n",
       "  <thead>\n",
       "    <tr style=\"text-align: right;\">\n",
       "      <th></th>\n",
       "      <th>Start Character</th>\n",
       "      <th>End Character</th>\n",
       "      <th>Distance</th>\n",
       "    </tr>\n",
       "  </thead>\n",
       "  <tbody>\n",
       "  </tbody>\n",
       "</table>\n",
       "</div>"
      ],
      "text/plain": [
       "Empty DataFrame\n",
       "Columns: [Start Character, End Character, Distance]\n",
       "Index: []"
      ]
     },
     "execution_count": 19,
     "metadata": {},
     "output_type": "execute_result"
    }
   ],
   "source": [
    "character_distance_df[character_distance_df['End Character'] == '?']"
   ]
  },
  {
   "cell_type": "code",
   "execution_count": 20,
   "id": "72fed087",
   "metadata": {},
   "outputs": [
    {
     "data": {
      "text/html": [
       "<div>\n",
       "<style scoped>\n",
       "    .dataframe tbody tr th:only-of-type {\n",
       "        vertical-align: middle;\n",
       "    }\n",
       "\n",
       "    .dataframe tbody tr th {\n",
       "        vertical-align: top;\n",
       "    }\n",
       "\n",
       "    .dataframe thead th {\n",
       "        text-align: right;\n",
       "    }\n",
       "</style>\n",
       "<table border=\"1\" class=\"dataframe\">\n",
       "  <thead>\n",
       "    <tr style=\"text-align: right;\">\n",
       "      <th></th>\n",
       "      <th>Start Character</th>\n",
       "      <th>End Character</th>\n",
       "      <th>Distance</th>\n",
       "    </tr>\n",
       "  </thead>\n",
       "  <tbody>\n",
       "    <tr>\n",
       "      <th>483</th>\n",
       "      <td>+</td>\n",
       "      <td>Z</td>\n",
       "      <td>14</td>\n",
       "    </tr>\n",
       "    <tr>\n",
       "      <th>510</th>\n",
       "      <td>+</td>\n",
       "      <td>z</td>\n",
       "      <td>14</td>\n",
       "    </tr>\n",
       "    <tr>\n",
       "      <th>1432</th>\n",
       "      <td>=</td>\n",
       "      <td>Z</td>\n",
       "      <td>14</td>\n",
       "    </tr>\n",
       "    <tr>\n",
       "      <th>1459</th>\n",
       "      <td>=</td>\n",
       "      <td>z</td>\n",
       "      <td>14</td>\n",
       "    </tr>\n",
       "    <tr>\n",
       "      <th>3364</th>\n",
       "      <td>Z</td>\n",
       "      <td>+</td>\n",
       "      <td>14</td>\n",
       "    </tr>\n",
       "    <tr>\n",
       "      <th>3377</th>\n",
       "      <td>Z</td>\n",
       "      <td>=</td>\n",
       "      <td>14</td>\n",
       "    </tr>\n",
       "    <tr>\n",
       "      <th>5335</th>\n",
       "      <td>z</td>\n",
       "      <td>+</td>\n",
       "      <td>14</td>\n",
       "    </tr>\n",
       "    <tr>\n",
       "      <th>5348</th>\n",
       "      <td>z</td>\n",
       "      <td>=</td>\n",
       "      <td>14</td>\n",
       "    </tr>\n",
       "  </tbody>\n",
       "</table>\n",
       "</div>"
      ],
      "text/plain": [
       "     Start Character End Character  Distance\n",
       "483                +             Z        14\n",
       "510                +             z        14\n",
       "1432               =             Z        14\n",
       "1459               =             z        14\n",
       "3364               Z             +        14\n",
       "3377               Z             =        14\n",
       "5335               z             +        14\n",
       "5348               z             =        14"
      ]
     },
     "execution_count": 20,
     "metadata": {},
     "output_type": "execute_result"
    }
   ],
   "source": [
    "character_distance_df[character_distance_df['Distance'] == 14]"
   ]
  },
  {
   "cell_type": "code",
   "execution_count": 21,
   "id": "9841c1b1",
   "metadata": {},
   "outputs": [],
   "source": [
    "character_info_df = character_distance_df.merge(character_type_df, left_on='End Character', right_on='Character', how='left')"
   ]
  },
  {
   "cell_type": "markdown",
   "id": "29b980d7",
   "metadata": {},
   "source": [
    "[OLD APPROACH]  \n",
    "Approach for selecting first character will be a completely random choice and the next character after this seed will be narrowed down in 2 steps. The first step is narrowing down the options to a specific character type with weighted probabilities based on composition of previously selected password characters. The second step is narrowing down the options to a specific distance from the most recently selected character."
   ]
  },
  {
   "cell_type": "markdown",
   "id": "65f78112",
   "metadata": {},
   "source": [
    "[Current Approach]  \n",
    "Approach for selecting characters will happen in a sequence where the 4 character types will have an equal chance of being selected and after a character type has been selected it will have its probability of being selected reduced and the percentage it was reduced by will be split evenly between the other 3 character types and this process will continue until the desired number of characters has been selected for the generated sequence of character types"
   ]
  },
  {
   "cell_type": "markdown",
   "id": "c26af51b",
   "metadata": {},
   "source": [
    "## Generating the Character Type Sequence that the Code Will Follow to Make Random Passowrds"
   ]
  },
  {
   "cell_type": "code",
   "execution_count": 22,
   "id": "cf287ff6",
   "metadata": {},
   "outputs": [],
   "source": [
    "def generate_character_type_sequence(character_length):\n",
    "    sequence = []\n",
    "    start_weights = [0.3, 0.3, 0.2, 0.2]\n",
    "    weight_deltas = [i/2 for i in start_weights]\n",
    "    character_types = [\"Uppercase\", \"Lowercase\", \"Number\", \"Special\"]\n",
    "\n",
    "    char = 0\n",
    "    while char < character_length:\n",
    "        while char >= character_length - 2:\n",
    "            while len(set(sequence)) < 4:\n",
    "                selected_type = np.random.choice(list({\"Uppercase\", \"Lowercase\", \"Number\", \"Special\"} - set(sequence))).item()\n",
    "                sequence.append(selected_type)\n",
    "                char += 1\n",
    "            break\n",
    "\n",
    "        selected_type = np.random.choice(character_types, p=start_weights).item()\n",
    "        sequence.append(selected_type)\n",
    "\n",
    "        for type in character_types:\n",
    "            if type == selected_type:\n",
    "                if start_weights[character_types.index(type)] - weight_deltas[character_types.index(selected_type)] < 0:\n",
    "                    start_weights[character_types.index(type)] -= start_weights[character_types.index(type)] \n",
    "                else:\n",
    "                    start_weights[character_types.index(type)] -= weight_deltas[character_types.index(selected_type)]\n",
    "            else:\n",
    "                if start_weights[character_types.index(selected_type)] - weight_deltas[character_types.index(selected_type)] < 0:\n",
    "                    start_weights[character_types.index(type)] += start_weights[character_types.index(selected_type)]/3\n",
    "                else:\n",
    "                    start_weights[character_types.index(type)] += weight_deltas[character_types.index(selected_type)]/3\n",
    "        char += 1\n",
    "        start_weights = start_weights / np.sum(start_weights, dtype=np.float64)\n",
    "        weight_deltas = [i/2 for i in start_weights]\n",
    "    return sequence"
   ]
  },
  {
   "cell_type": "code",
   "execution_count": 23,
   "id": "42745994",
   "metadata": {},
   "outputs": [
    {
     "name": "stdout",
     "output_type": "stream",
     "text": [
      "['Lowercase', 'Uppercase', 'Special', 'Lowercase', 'Lowercase', 'Number', 'Number', 'Special', 'Uppercase', 'Uppercase']\n"
     ]
    }
   ],
   "source": [
    "print(generate_character_type_sequence(10))"
   ]
  },
  {
   "cell_type": "code",
   "execution_count": 24,
   "id": "159b02bc",
   "metadata": {},
   "outputs": [
    {
     "name": "stdout",
     "output_type": "stream",
     "text": [
      "['Lowercase', 'Lowercase', 'Lowercase', 'Number', 'Number', 'Special', 'Special', 'Special', 'Uppercase', 'Uppercase', 'Uppercase', 'Uppercase']\n"
     ]
    }
   ],
   "source": [
    "print(sorted(generate_character_type_sequence(12)))"
   ]
  },
  {
   "cell_type": "code",
   "execution_count": 26,
   "id": "25dc3295",
   "metadata": {},
   "outputs": [],
   "source": [
    "def make_random_password(sequence):\n",
    "    password = \"\"\n",
    "    current_chartype = sequence[0]\n",
    "    current_character = np.random.choice(character_type_df[character_type_df['Character Type'] == current_chartype]['Character'])\n",
    "    password += current_character\n",
    "    for i in range(1, len(sequence)):\n",
    "        filtered_df = character_info_df[(character_info_df['Start Character'] == current_character) & (character_info_df['Character Type'] == sequence[i])]\n",
    "        current_character = np.random.choice(filtered_df['End Character'])\n",
    "        password += current_character\n",
    "    return password"
   ]
  },
  {
   "cell_type": "code",
   "execution_count": 39,
   "id": "3eb9c8bd",
   "metadata": {},
   "outputs": [
    {
     "data": {
      "text/html": [
       "<div>\n",
       "<style scoped>\n",
       "    .dataframe tbody tr th:only-of-type {\n",
       "        vertical-align: middle;\n",
       "    }\n",
       "\n",
       "    .dataframe tbody tr th {\n",
       "        vertical-align: top;\n",
       "    }\n",
       "\n",
       "    .dataframe thead th {\n",
       "        text-align: right;\n",
       "    }\n",
       "</style>\n",
       "<table border=\"1\" class=\"dataframe\">\n",
       "  <thead>\n",
       "    <tr style=\"text-align: right;\">\n",
       "      <th></th>\n",
       "      <th>Character</th>\n",
       "      <th>Character Type</th>\n",
       "    </tr>\n",
       "  </thead>\n",
       "  <tbody>\n",
       "    <tr>\n",
       "      <th>0</th>\n",
       "      <td>!</td>\n",
       "      <td>Special</td>\n",
       "    </tr>\n",
       "    <tr>\n",
       "      <th>1</th>\n",
       "      <td>#</td>\n",
       "      <td>Special</td>\n",
       "    </tr>\n",
       "    <tr>\n",
       "      <th>2</th>\n",
       "      <td>$</td>\n",
       "      <td>Special</td>\n",
       "    </tr>\n",
       "    <tr>\n",
       "      <th>3</th>\n",
       "      <td>%</td>\n",
       "      <td>Special</td>\n",
       "    </tr>\n",
       "    <tr>\n",
       "      <th>4</th>\n",
       "      <td>&amp;</td>\n",
       "      <td>Special</td>\n",
       "    </tr>\n",
       "    <tr>\n",
       "      <th>...</th>\n",
       "      <td>...</td>\n",
       "      <td>...</td>\n",
       "    </tr>\n",
       "    <tr>\n",
       "      <th>69</th>\n",
       "      <td>v</td>\n",
       "      <td>Lowercase</td>\n",
       "    </tr>\n",
       "    <tr>\n",
       "      <th>70</th>\n",
       "      <td>w</td>\n",
       "      <td>Lowercase</td>\n",
       "    </tr>\n",
       "    <tr>\n",
       "      <th>71</th>\n",
       "      <td>x</td>\n",
       "      <td>Lowercase</td>\n",
       "    </tr>\n",
       "    <tr>\n",
       "      <th>72</th>\n",
       "      <td>y</td>\n",
       "      <td>Lowercase</td>\n",
       "    </tr>\n",
       "    <tr>\n",
       "      <th>73</th>\n",
       "      <td>z</td>\n",
       "      <td>Lowercase</td>\n",
       "    </tr>\n",
       "  </tbody>\n",
       "</table>\n",
       "<p>74 rows × 2 columns</p>\n",
       "</div>"
      ],
      "text/plain": [
       "   Character Character Type\n",
       "0          !        Special\n",
       "1          #        Special\n",
       "2          $        Special\n",
       "3          %        Special\n",
       "4          &        Special\n",
       "..       ...            ...\n",
       "69         v      Lowercase\n",
       "70         w      Lowercase\n",
       "71         x      Lowercase\n",
       "72         y      Lowercase\n",
       "73         z      Lowercase\n",
       "\n",
       "[74 rows x 2 columns]"
      ]
     },
     "execution_count": 39,
     "metadata": {},
     "output_type": "execute_result"
    }
   ],
   "source": [
    "character_type_df"
   ]
  },
  {
   "cell_type": "code",
   "execution_count": 40,
   "id": "ea86a011",
   "metadata": {},
   "outputs": [
    {
     "data": {
      "text/html": [
       "<div>\n",
       "<style scoped>\n",
       "    .dataframe tbody tr th:only-of-type {\n",
       "        vertical-align: middle;\n",
       "    }\n",
       "\n",
       "    .dataframe tbody tr th {\n",
       "        vertical-align: top;\n",
       "    }\n",
       "\n",
       "    .dataframe thead th {\n",
       "        text-align: right;\n",
       "    }\n",
       "</style>\n",
       "<table border=\"1\" class=\"dataframe\">\n",
       "  <thead>\n",
       "    <tr style=\"text-align: right;\">\n",
       "      <th></th>\n",
       "      <th>Start Character</th>\n",
       "      <th>End Character</th>\n",
       "      <th>Distance</th>\n",
       "    </tr>\n",
       "  </thead>\n",
       "  <tbody>\n",
       "    <tr>\n",
       "      <th>0</th>\n",
       "      <td>!</td>\n",
       "      <td>#</td>\n",
       "      <td>2</td>\n",
       "    </tr>\n",
       "    <tr>\n",
       "      <th>1</th>\n",
       "      <td>!</td>\n",
       "      <td>$</td>\n",
       "      <td>3</td>\n",
       "    </tr>\n",
       "    <tr>\n",
       "      <th>2</th>\n",
       "      <td>!</td>\n",
       "      <td>%</td>\n",
       "      <td>4</td>\n",
       "    </tr>\n",
       "    <tr>\n",
       "      <th>3</th>\n",
       "      <td>!</td>\n",
       "      <td>&amp;</td>\n",
       "      <td>6</td>\n",
       "    </tr>\n",
       "    <tr>\n",
       "      <th>4</th>\n",
       "      <td>!</td>\n",
       "      <td>*</td>\n",
       "      <td>7</td>\n",
       "    </tr>\n",
       "    <tr>\n",
       "      <th>...</th>\n",
       "      <td>...</td>\n",
       "      <td>...</td>\n",
       "      <td>...</td>\n",
       "    </tr>\n",
       "    <tr>\n",
       "      <th>5397</th>\n",
       "      <td>z</td>\n",
       "      <td>u</td>\n",
       "      <td>8</td>\n",
       "    </tr>\n",
       "    <tr>\n",
       "      <th>5398</th>\n",
       "      <td>z</td>\n",
       "      <td>v</td>\n",
       "      <td>3</td>\n",
       "    </tr>\n",
       "    <tr>\n",
       "      <th>5399</th>\n",
       "      <td>z</td>\n",
       "      <td>w</td>\n",
       "      <td>3</td>\n",
       "    </tr>\n",
       "    <tr>\n",
       "      <th>5400</th>\n",
       "      <td>z</td>\n",
       "      <td>x</td>\n",
       "      <td>1</td>\n",
       "    </tr>\n",
       "    <tr>\n",
       "      <th>5401</th>\n",
       "      <td>z</td>\n",
       "      <td>y</td>\n",
       "      <td>7</td>\n",
       "    </tr>\n",
       "  </tbody>\n",
       "</table>\n",
       "<p>5402 rows × 3 columns</p>\n",
       "</div>"
      ],
      "text/plain": [
       "     Start Character End Character  Distance\n",
       "0                  !             #         2\n",
       "1                  !             $         3\n",
       "2                  !             %         4\n",
       "3                  !             &         6\n",
       "4                  !             *         7\n",
       "...              ...           ...       ...\n",
       "5397               z             u         8\n",
       "5398               z             v         3\n",
       "5399               z             w         3\n",
       "5400               z             x         1\n",
       "5401               z             y         7\n",
       "\n",
       "[5402 rows x 3 columns]"
      ]
     },
     "execution_count": 40,
     "metadata": {},
     "output_type": "execute_result"
    }
   ],
   "source": [
    "character_distance_df"
   ]
  },
  {
   "cell_type": "code",
   "execution_count": 41,
   "id": "98ad4b5f",
   "metadata": {},
   "outputs": [
    {
     "data": {
      "text/html": [
       "<div>\n",
       "<style scoped>\n",
       "    .dataframe tbody tr th:only-of-type {\n",
       "        vertical-align: middle;\n",
       "    }\n",
       "\n",
       "    .dataframe tbody tr th {\n",
       "        vertical-align: top;\n",
       "    }\n",
       "\n",
       "    .dataframe thead th {\n",
       "        text-align: right;\n",
       "    }\n",
       "</style>\n",
       "<table border=\"1\" class=\"dataframe\">\n",
       "  <thead>\n",
       "    <tr style=\"text-align: right;\">\n",
       "      <th></th>\n",
       "      <th>Start Character</th>\n",
       "      <th>End Character</th>\n",
       "      <th>Distance</th>\n",
       "      <th>Character</th>\n",
       "      <th>Character Type</th>\n",
       "    </tr>\n",
       "  </thead>\n",
       "  <tbody>\n",
       "    <tr>\n",
       "      <th>0</th>\n",
       "      <td>!</td>\n",
       "      <td>#</td>\n",
       "      <td>2</td>\n",
       "      <td>#</td>\n",
       "      <td>Special</td>\n",
       "    </tr>\n",
       "    <tr>\n",
       "      <th>1</th>\n",
       "      <td>!</td>\n",
       "      <td>$</td>\n",
       "      <td>3</td>\n",
       "      <td>$</td>\n",
       "      <td>Special</td>\n",
       "    </tr>\n",
       "    <tr>\n",
       "      <th>2</th>\n",
       "      <td>!</td>\n",
       "      <td>%</td>\n",
       "      <td>4</td>\n",
       "      <td>%</td>\n",
       "      <td>Special</td>\n",
       "    </tr>\n",
       "    <tr>\n",
       "      <th>3</th>\n",
       "      <td>!</td>\n",
       "      <td>&amp;</td>\n",
       "      <td>6</td>\n",
       "      <td>&amp;</td>\n",
       "      <td>Special</td>\n",
       "    </tr>\n",
       "    <tr>\n",
       "      <th>4</th>\n",
       "      <td>!</td>\n",
       "      <td>*</td>\n",
       "      <td>7</td>\n",
       "      <td>*</td>\n",
       "      <td>Special</td>\n",
       "    </tr>\n",
       "    <tr>\n",
       "      <th>...</th>\n",
       "      <td>...</td>\n",
       "      <td>...</td>\n",
       "      <td>...</td>\n",
       "      <td>...</td>\n",
       "      <td>...</td>\n",
       "    </tr>\n",
       "    <tr>\n",
       "      <th>5397</th>\n",
       "      <td>z</td>\n",
       "      <td>u</td>\n",
       "      <td>8</td>\n",
       "      <td>u</td>\n",
       "      <td>Lowercase</td>\n",
       "    </tr>\n",
       "    <tr>\n",
       "      <th>5398</th>\n",
       "      <td>z</td>\n",
       "      <td>v</td>\n",
       "      <td>3</td>\n",
       "      <td>v</td>\n",
       "      <td>Lowercase</td>\n",
       "    </tr>\n",
       "    <tr>\n",
       "      <th>5399</th>\n",
       "      <td>z</td>\n",
       "      <td>w</td>\n",
       "      <td>3</td>\n",
       "      <td>w</td>\n",
       "      <td>Lowercase</td>\n",
       "    </tr>\n",
       "    <tr>\n",
       "      <th>5400</th>\n",
       "      <td>z</td>\n",
       "      <td>x</td>\n",
       "      <td>1</td>\n",
       "      <td>x</td>\n",
       "      <td>Lowercase</td>\n",
       "    </tr>\n",
       "    <tr>\n",
       "      <th>5401</th>\n",
       "      <td>z</td>\n",
       "      <td>y</td>\n",
       "      <td>7</td>\n",
       "      <td>y</td>\n",
       "      <td>Lowercase</td>\n",
       "    </tr>\n",
       "  </tbody>\n",
       "</table>\n",
       "<p>5402 rows × 5 columns</p>\n",
       "</div>"
      ],
      "text/plain": [
       "     Start Character End Character  Distance Character Character Type\n",
       "0                  !             #         2         #        Special\n",
       "1                  !             $         3         $        Special\n",
       "2                  !             %         4         %        Special\n",
       "3                  !             &         6         &        Special\n",
       "4                  !             *         7         *        Special\n",
       "...              ...           ...       ...       ...            ...\n",
       "5397               z             u         8         u      Lowercase\n",
       "5398               z             v         3         v      Lowercase\n",
       "5399               z             w         3         w      Lowercase\n",
       "5400               z             x         1         x      Lowercase\n",
       "5401               z             y         7         y      Lowercase\n",
       "\n",
       "[5402 rows x 5 columns]"
      ]
     },
     "execution_count": 41,
     "metadata": {},
     "output_type": "execute_result"
    }
   ],
   "source": [
    "character_info_df"
   ]
  },
  {
   "cell_type": "code",
   "execution_count": 27,
   "id": "daa52f54",
   "metadata": {},
   "outputs": [
    {
     "data": {
      "text/plain": [
       "'t63*^tQM'"
      ]
     },
     "execution_count": 27,
     "metadata": {},
     "output_type": "execute_result"
    }
   ],
   "source": [
    "make_random_password(generate_character_type_sequence(8))"
   ]
  },
  {
   "cell_type": "code",
   "execution_count": 28,
   "id": "ed5b5a55",
   "metadata": {},
   "outputs": [
    {
     "data": {
      "text/plain": [
       "'^8ZI3;9dq'"
      ]
     },
     "execution_count": 28,
     "metadata": {},
     "output_type": "execute_result"
    }
   ],
   "source": [
    "make_random_password(generate_character_type_sequence(9))"
   ]
  },
  {
   "cell_type": "code",
   "execution_count": 29,
   "id": "d900be60",
   "metadata": {},
   "outputs": [
    {
     "data": {
      "text/plain": [
       "Character\n",
       "#    73\n",
       "$    73\n",
       "%    73\n",
       "&    73\n",
       "*    73\n",
       "     ..\n",
       "w    73\n",
       "x    73\n",
       "y    73\n",
       "z    73\n",
       "!    73\n",
       "Name: count, Length: 74, dtype: int64"
      ]
     },
     "execution_count": 29,
     "metadata": {},
     "output_type": "execute_result"
    }
   ],
   "source": [
    "character_info_df['Character'].value_counts()"
   ]
  },
  {
   "cell_type": "code",
   "execution_count": 45,
   "id": "066a6ffc",
   "metadata": {},
   "outputs": [],
   "source": [
    "check = character_info_df.copy().sort_values(by=['Start Character', 'Distance'])"
   ]
  },
  {
   "cell_type": "code",
   "execution_count": 46,
   "id": "4924a010",
   "metadata": {},
   "outputs": [
    {
     "data": {
      "text/html": [
       "<div>\n",
       "<style scoped>\n",
       "    .dataframe tbody tr th:only-of-type {\n",
       "        vertical-align: middle;\n",
       "    }\n",
       "\n",
       "    .dataframe tbody tr th {\n",
       "        vertical-align: top;\n",
       "    }\n",
       "\n",
       "    .dataframe thead th {\n",
       "        text-align: right;\n",
       "    }\n",
       "</style>\n",
       "<table border=\"1\" class=\"dataframe\">\n",
       "  <thead>\n",
       "    <tr style=\"text-align: right;\">\n",
       "      <th></th>\n",
       "      <th>Start Character</th>\n",
       "      <th>End Character</th>\n",
       "      <th>Distance</th>\n",
       "      <th>Character</th>\n",
       "      <th>Character Type</th>\n",
       "    </tr>\n",
       "  </thead>\n",
       "  <tbody>\n",
       "    <tr>\n",
       "      <th>7</th>\n",
       "      <td>!</td>\n",
       "      <td>1</td>\n",
       "      <td>0</td>\n",
       "      <td>1</td>\n",
       "      <td>Number</td>\n",
       "    </tr>\n",
       "    <tr>\n",
       "      <th>8</th>\n",
       "      <td>!</td>\n",
       "      <td>2</td>\n",
       "      <td>1</td>\n",
       "      <td>2</td>\n",
       "      <td>Number</td>\n",
       "    </tr>\n",
       "    <tr>\n",
       "      <th>19</th>\n",
       "      <td>!</td>\n",
       "      <td>@</td>\n",
       "      <td>1</td>\n",
       "      <td>@</td>\n",
       "      <td>Special</td>\n",
       "    </tr>\n",
       "    <tr>\n",
       "      <th>36</th>\n",
       "      <td>!</td>\n",
       "      <td>Q</td>\n",
       "      <td>1</td>\n",
       "      <td>Q</td>\n",
       "      <td>Uppercase</td>\n",
       "    </tr>\n",
       "    <tr>\n",
       "      <th>63</th>\n",
       "      <td>!</td>\n",
       "      <td>q</td>\n",
       "      <td>1</td>\n",
       "      <td>q</td>\n",
       "      <td>Lowercase</td>\n",
       "    </tr>\n",
       "    <tr>\n",
       "      <th>...</th>\n",
       "      <td>...</td>\n",
       "      <td>...</td>\n",
       "      <td>...</td>\n",
       "      <td>...</td>\n",
       "      <td>...</td>\n",
       "    </tr>\n",
       "    <tr>\n",
       "      <th>5365</th>\n",
       "      <td>z</td>\n",
       "      <td>P</td>\n",
       "      <td>11</td>\n",
       "      <td>P</td>\n",
       "      <td>Uppercase</td>\n",
       "    </tr>\n",
       "    <tr>\n",
       "      <th>5392</th>\n",
       "      <td>z</td>\n",
       "      <td>p</td>\n",
       "      <td>11</td>\n",
       "      <td>p</td>\n",
       "      <td>Lowercase</td>\n",
       "    </tr>\n",
       "    <tr>\n",
       "      <th>5336</th>\n",
       "      <td>z</td>\n",
       "      <td>0</td>\n",
       "      <td>12</td>\n",
       "      <td>0</td>\n",
       "      <td>Number</td>\n",
       "    </tr>\n",
       "    <tr>\n",
       "      <th>5335</th>\n",
       "      <td>z</td>\n",
       "      <td>+</td>\n",
       "      <td>14</td>\n",
       "      <td>+</td>\n",
       "      <td>Special</td>\n",
       "    </tr>\n",
       "    <tr>\n",
       "      <th>5348</th>\n",
       "      <td>z</td>\n",
       "      <td>=</td>\n",
       "      <td>14</td>\n",
       "      <td>=</td>\n",
       "      <td>Special</td>\n",
       "    </tr>\n",
       "  </tbody>\n",
       "</table>\n",
       "<p>5402 rows × 5 columns</p>\n",
       "</div>"
      ],
      "text/plain": [
       "     Start Character End Character  Distance Character Character Type\n",
       "7                  !             1         0         1         Number\n",
       "8                  !             2         1         2         Number\n",
       "19                 !             @         1         @        Special\n",
       "36                 !             Q         1         Q      Uppercase\n",
       "63                 !             q         1         q      Lowercase\n",
       "...              ...           ...       ...       ...            ...\n",
       "5365               z             P        11         P      Uppercase\n",
       "5392               z             p        11         p      Lowercase\n",
       "5336               z             0        12         0         Number\n",
       "5335               z             +        14         +        Special\n",
       "5348               z             =        14         =        Special\n",
       "\n",
       "[5402 rows x 5 columns]"
      ]
     },
     "execution_count": 46,
     "metadata": {},
     "output_type": "execute_result"
    }
   ],
   "source": [
    "check"
   ]
  },
  {
   "cell_type": "code",
   "execution_count": 47,
   "id": "8d6dfde1",
   "metadata": {},
   "outputs": [
    {
     "data": {
      "text/plain": [
       "Distance\n",
       "3     840\n",
       "4     808\n",
       "2     736\n",
       "5     692\n",
       "6     568\n",
       "1     462\n",
       "7     440\n",
       "8     328\n",
       "9     220\n",
       "10    124\n",
       "0      72\n",
       "11     60\n",
       "12     28\n",
       "13     16\n",
       "14      8\n",
       "Name: count, dtype: int64"
      ]
     },
     "execution_count": 47,
     "metadata": {},
     "output_type": "execute_result"
    }
   ],
   "source": [
    "check['Distance'].value_counts()"
   ]
  },
  {
   "cell_type": "code",
   "execution_count": 48,
   "id": "f92c6e1a",
   "metadata": {},
   "outputs": [
    {
     "data": {
      "text/plain": [
       "3"
      ]
     },
     "execution_count": 48,
     "metadata": {},
     "output_type": "execute_result"
    }
   ],
   "source": [
    "check['Distance'].value_counts().keys()[0].item()"
   ]
  },
  {
   "cell_type": "markdown",
   "id": "c5542003",
   "metadata": {},
   "source": [
    "Equation for probability density function for skew normal distribution:\n",
    "2/sqrt(2pi)*e^(-(x-E)^2/2w^2)/w"
   ]
  },
  {
   "cell_type": "code",
   "execution_count": 49,
   "id": "f9bfb840",
   "metadata": {},
   "outputs": [],
   "source": [
    "def check_pdf(x, location, scale):\n",
    "    return 2/m.sqrt(2*m.pi)*m.e**(-((x-location)**2)/(2*scale**2))/scale"
   ]
  },
  {
   "cell_type": "code",
   "execution_count": 30,
   "id": "3e63969b",
   "metadata": {},
   "outputs": [],
   "source": [
    "def pdf(x, location, scale):\n",
    "    return 0.8*m.exp(-((x-location)**2)/(2*scale**2))/scale"
   ]
  },
  {
   "cell_type": "code",
   "execution_count": 31,
   "id": "a3232709",
   "metadata": {},
   "outputs": [
    {
     "name": "stdout",
     "output_type": "stream",
     "text": [
      "x=1, pdf=0.1142857142857143\n",
      "x=2, pdf=0.11312546324328387\n",
      "x=3, pdf=0.10971490757548318\n",
      "x=4, pdf=0.10425760878040517\n",
      "x=5, pdf=0.09707037903637858\n",
      "x=6, pdf=0.0885528490152285\n",
      "x=7, pdf=0.07915077990916544\n",
      "x=8, pdf=0.06931778968144382\n",
      "x=9, pdf=0.05948001383093739\n",
      "x=10, pdf=0.05000739859431648\n",
      "x=11, pdf=0.04119403298260811\n",
      "x=12, pdf=0.03324843509098836\n",
      "x=13, pdf=0.02629329131357818\n",
      "x=14, pdf=0.02037302623829119\n"
     ]
    }
   ],
   "source": [
    "for i in range(1, 15):\n",
    "    print(f\"x={i}, pdf={pdf(i, 1, 7)}\")"
   ]
  },
  {
   "cell_type": "code",
   "execution_count": 52,
   "id": "4ce70c4d",
   "metadata": {},
   "outputs": [],
   "source": [
    "def npdf(x):\n",
    "    return 0.4*m.exp(-(x**2)/2)"
   ]
  },
  {
   "cell_type": "code",
   "execution_count": 53,
   "id": "5c892b53",
   "metadata": {},
   "outputs": [
    {
     "name": "stdout",
     "output_type": "stream",
     "text": [
      "x=-15, npdf=5.545373174564683e-50\n",
      "x=-14, npdf=1.0995140031640859e-43\n",
      "x=-13, npdf=8.020035127846617e-38\n",
      "x=-12, npdf=2.1520744640084554e-32\n",
      "x=-11, npdf=2.1244368998716383e-27\n",
      "x=-10, npdf=7.714999391855672e-23\n",
      "x=-9, npdf=1.0307028436619925e-18\n",
      "x=-8, npdf=5.065666219637671e-15\n",
      "x=-7, npdf=9.158939382582212e-12\n",
      "x=-6, npdf=6.091991897885052e-09\n",
      "x=-5, npdf=1.4906612688314684e-06\n",
      "x=-4, npdf=0.00013418505116100476\n",
      "x=-3, npdf=0.004443598615296923\n",
      "x=-2, npdf=0.054134113294645084\n",
      "x=-1, npdf=0.2426122638850534\n",
      "x=0, npdf=0.4\n",
      "x=1, npdf=0.2426122638850534\n",
      "x=2, npdf=0.054134113294645084\n",
      "x=3, npdf=0.004443598615296923\n",
      "x=4, npdf=0.00013418505116100476\n",
      "x=5, npdf=1.4906612688314684e-06\n",
      "x=6, npdf=6.091991897885052e-09\n",
      "x=7, npdf=9.158939382582212e-12\n",
      "x=8, npdf=5.065666219637671e-15\n",
      "x=9, npdf=1.0307028436619925e-18\n",
      "x=10, npdf=7.714999391855672e-23\n",
      "x=11, npdf=2.1244368998716383e-27\n",
      "x=12, npdf=2.1520744640084554e-32\n",
      "x=13, npdf=8.020035127846617e-38\n",
      "x=14, npdf=1.0995140031640859e-43\n"
     ]
    }
   ],
   "source": [
    "for i in range(-15, 15):\n",
    "    print(f\"x={i}, npdf={npdf(i)}\")"
   ]
  },
  {
   "cell_type": "code",
   "execution_count": 54,
   "id": "714912c6",
   "metadata": {},
   "outputs": [
    {
     "name": "stdout",
     "output_type": "stream",
     "text": [
      "1.0025141366411519\n"
     ]
    }
   ],
   "source": [
    "val = 0\n",
    "for i in range(-4, 4):\n",
    "    val += npdf(i)\n",
    "print(val)"
   ]
  },
  {
   "cell_type": "code",
   "execution_count": 55,
   "id": "badf883c",
   "metadata": {},
   "outputs": [
    {
     "name": "stdout",
     "output_type": "stream",
     "text": [
      "1.0449696805040292\n"
     ]
    }
   ],
   "source": [
    "val = 0\n",
    "for i in range(1, 15):\n",
    "    val += pdf(i, 1, 6)\n",
    "    # print(val)\n",
    "print(val)"
   ]
  },
  {
   "cell_type": "code",
   "execution_count": 56,
   "id": "3e55f3ec",
   "metadata": {},
   "outputs": [],
   "source": [
    "skew_prob_check = [pdf(i, 1, 7) for i in range(0, 15)]"
   ]
  },
  {
   "cell_type": "code",
   "execution_count": 57,
   "id": "416af711",
   "metadata": {},
   "outputs": [
    {
     "data": {
      "text/plain": [
       "[0.11312546324328387,\n",
       " 0.1142857142857143,\n",
       " 0.11312546324328387,\n",
       " 0.10971490757548318,\n",
       " 0.10425760878040517,\n",
       " 0.09707037903637858,\n",
       " 0.0885528490152285,\n",
       " 0.07915077990916544,\n",
       " 0.06931778968144382,\n",
       " 0.05948001383093739,\n",
       " 0.05000739859431648,\n",
       " 0.04119403298260811,\n",
       " 0.03324843509098836,\n",
       " 0.02629329131357818,\n",
       " 0.02037302623829119]"
      ]
     },
     "execution_count": 57,
     "metadata": {},
     "output_type": "execute_result"
    }
   ],
   "source": [
    "skew_prob_check"
   ]
  },
  {
   "cell_type": "code",
   "execution_count": 58,
   "id": "d025eb21",
   "metadata": {},
   "outputs": [
    {
     "data": {
      "text/plain": [
       "1.1191971528211064"
      ]
     },
     "execution_count": 58,
     "metadata": {},
     "output_type": "execute_result"
    }
   ],
   "source": [
    "sum(skew_prob_check)"
   ]
  },
  {
   "cell_type": "code",
   "execution_count": 59,
   "id": "bc707d84",
   "metadata": {},
   "outputs": [],
   "source": [
    "norm_skew_prob_check = skew_prob_check/np.sum(skew_prob_check)"
   ]
  },
  {
   "cell_type": "code",
   "execution_count": 60,
   "id": "280ea10f",
   "metadata": {},
   "outputs": [
    {
     "data": {
      "text/plain": [
       "array([0.10107733, 0.10211401, 0.10107733, 0.09803001, 0.09315393,\n",
       "       0.08673215, 0.07912176, 0.07072103, 0.06193528, 0.05314525,\n",
       "       0.04468149, 0.03680677, 0.0297074 , 0.02349299, 0.01820325])"
      ]
     },
     "execution_count": 60,
     "metadata": {},
     "output_type": "execute_result"
    }
   ],
   "source": [
    "norm_skew_prob_check"
   ]
  },
  {
   "cell_type": "code",
   "execution_count": 61,
   "id": "4def504c",
   "metadata": {},
   "outputs": [
    {
     "data": {
      "text/plain": [
       "np.float64(0.9999999999999998)"
      ]
     },
     "execution_count": 61,
     "metadata": {},
     "output_type": "execute_result"
    }
   ],
   "source": [
    "np.sum(norm_skew_prob_check)"
   ]
  },
  {
   "cell_type": "code",
   "execution_count": 63,
   "id": "2cf27cea",
   "metadata": {},
   "outputs": [
    {
     "data": {
      "text/plain": [
       "2"
      ]
     },
     "execution_count": 63,
     "metadata": {},
     "output_type": "execute_result"
    }
   ],
   "source": [
    "np.random.choice(list(range(0, 15)), p=norm_skew_prob_check).item()"
   ]
  },
  {
   "cell_type": "code",
   "execution_count": 64,
   "id": "30dc65d9",
   "metadata": {},
   "outputs": [
    {
     "data": {
      "text/plain": [
       "array([0.10107733, 0.10211401, 0.10107733, 0.09803001, 0.09315393,\n",
       "       0.08673215, 0.07912176, 0.07072103, 0.06193528, 0.05314525,\n",
       "       0.04468149, 0.03680677, 0.0297074 , 0.02349299, 0.01820325])"
      ]
     },
     "execution_count": 64,
     "metadata": {},
     "output_type": "execute_result"
    }
   ],
   "source": [
    "func_check = [pdf(i, 1, 7) for i in range(0, 15)]/np.sum([pdf(i, 1, 7) for i in range(0, 15)])\n",
    "func_check"
   ]
  },
  {
   "cell_type": "code",
   "execution_count": 32,
   "id": "e9fc7733",
   "metadata": {},
   "outputs": [],
   "source": [
    "def test_make_random_password(sequence):\n",
    "    password = \"\"\n",
    "    probability_distribution = [test_pdf(i, 1, 7) for i in range(0, 15)]\n",
    "    # norm_prob_distribution = probability_distribution/np.sum(probability_distribution)\n",
    "    current_chartype = sequence[0]\n",
    "    current_character = np.random.choice(character_type_df[character_type_df['Character Type'] == current_chartype]['Character'])\n",
    "    password += current_character\n",
    "    for i in range(1, len(sequence)):\n",
    "        filtered_df = character_info_df[(character_info_df['Start Character'] == current_character) & (character_info_df['Character Type'] == sequence[i])]\n",
    "        # Attempt set subtraction of filtered_df distances from probability_distribution set and then normalize probability_distribution based on its remaining values\n",
    "        chosen_distance = np.random.choice(list(set(filtered_df['Distance'])), p=[probability_distribution[i] for i in list(set(filtered_df['Distance']))]/np.sum([probability_distribution[i] for i in list(set(filtered_df['Distance']))])).item()\n",
    "        last_filtered_df = filtered_df[filtered_df['Distance'] == chosen_distance]\n",
    "        current_character = np.random.choice(last_filtered_df['End Character'])\n",
    "        while current_character in password:\n",
    "            if len(last_filtered_df) > 1 and current_character not in password:\n",
    "                current_character = np.random.choice(last_filtered_df[last_filtered_df['End Character'] != current_character]['End Character'])\n",
    "            else:\n",
    "                chosen_distance = np.random.choice(list(set(filtered_df['Distance'])), p=[probability_distribution[i] for i in list(set(filtered_df['Distance']))]/np.sum([probability_distribution[i] for i in list(set(filtered_df['Distance']))])).item()\n",
    "                last_filtered_df = filtered_df[filtered_df['Distance'] == chosen_distance]\n",
    "                current_character = np.random.choice(last_filtered_df['End Character'])\n",
    "        password += current_character\n",
    "    return password"
   ]
  },
  {
   "cell_type": "code",
   "execution_count": 60,
   "id": "8d6c4686",
   "metadata": {},
   "outputs": [
    {
     "data": {
      "text/plain": [
       "'f&y^3sAHT'"
      ]
     },
     "execution_count": 60,
     "metadata": {},
     "output_type": "execute_result"
    }
   ],
   "source": [
    "test_make_random_password(generate_character_type_sequence(9))"
   ]
  },
  {
   "cell_type": "markdown",
   "id": "51c322ba",
   "metadata": {},
   "source": [
    "eGF^l!tKN38! / 3-1-4-5-10-5-4-2-6-5-7"
   ]
  },
  {
   "cell_type": "code",
   "execution_count": 44,
   "id": "22dce983",
   "metadata": {},
   "outputs": [
    {
     "data": {
      "text/plain": [
       "'0L+oUm9@4v$Z'"
      ]
     },
     "execution_count": 44,
     "metadata": {},
     "output_type": "execute_result"
    }
   ],
   "source": [
    "test_make_random_password(generate_character_type_sequence(12))"
   ]
  },
  {
   "cell_type": "markdown",
   "id": "61dec5c0",
   "metadata": {},
   "source": [
    "ci@KzVJ;49f;"
   ]
  },
  {
   "cell_type": "code",
   "execution_count": 71,
   "id": "b2751628",
   "metadata": {},
   "outputs": [
    {
     "data": {
      "text/plain": [
       "'$RG2Mb4We&*;'"
      ]
     },
     "execution_count": 71,
     "metadata": {},
     "output_type": "execute_result"
    }
   ],
   "source": [
    "test_make_random_password(generate_character_type_sequence(12))"
   ]
  },
  {
   "cell_type": "code",
   "execution_count": 56,
   "id": "ce5590cc",
   "metadata": {},
   "outputs": [],
   "source": [
    "pd = [test_pdf(i, 1, 7) for i in range(0, 15)]\n",
    "npd = pd/np.sum(pd)"
   ]
  },
  {
   "cell_type": "code",
   "execution_count": 57,
   "id": "ad5e8edd",
   "metadata": {},
   "outputs": [
    {
     "data": {
      "text/plain": [
       "array([0.06184144, 0.13322944, 0.13187687, 0.12790099, 0.1215391 ,\n",
       "       0.11316053, 0.10323116, 0.04326876, 0.03789343, 0.03251549,\n",
       "       0.02733717, 0.02251923, 0.01817567, 0.01437355, 0.01113717])"
      ]
     },
     "execution_count": 57,
     "metadata": {},
     "output_type": "execute_result"
    }
   ],
   "source": [
    "npd"
   ]
  },
  {
   "cell_type": "code",
   "execution_count": null,
   "id": "40fe3f20",
   "metadata": {},
   "outputs": [
    {
     "data": {
      "text/plain": [
       "15"
      ]
     },
     "execution_count": 87,
     "metadata": {},
     "output_type": "execute_result"
    }
   ],
   "source": [
    "len(npd)"
   ]
  },
  {
   "cell_type": "code",
   "execution_count": null,
   "id": "a71b3a25",
   "metadata": {},
   "outputs": [
    {
     "data": {
      "text/plain": [
       "Distance\n",
       "3     0.155498\n",
       "4     0.149574\n",
       "2     0.136246\n",
       "5     0.128101\n",
       "6     0.105146\n",
       "1     0.085524\n",
       "7     0.081451\n",
       "8     0.060718\n",
       "9     0.040726\n",
       "10    0.022954\n",
       "0     0.013328\n",
       "11    0.011107\n",
       "12    0.005183\n",
       "13    0.002962\n",
       "14    0.001481\n",
       "Name: count, dtype: float64"
      ]
     },
     "execution_count": 67,
     "metadata": {},
     "output_type": "execute_result"
    }
   ],
   "source": [
    "character_info_df['Distance'].value_counts()/len(character_info_df)"
   ]
  },
  {
   "cell_type": "code",
   "execution_count": null,
   "id": "a724eeca",
   "metadata": {},
   "outputs": [
    {
     "data": {
      "text/plain": [
       "{0, 1, 2, 3, 4, 5, 6, 7, 8, 9, 10, 11, 12, 13, 14}"
      ]
     },
     "execution_count": 79,
     "metadata": {},
     "output_type": "execute_result"
    }
   ],
   "source": [
    "set(character_info_df['Distance'])"
   ]
  },
  {
   "cell_type": "code",
   "execution_count": null,
   "id": "13a2401d",
   "metadata": {},
   "outputs": [
    {
     "name": "stdout",
     "output_type": "stream",
     "text": [
      "x=0, pdf=0.11312546324328387\n",
      "x=1, pdf=0.1142857142857143\n",
      "x=2, pdf=0.11312546324328387\n",
      "x=3, pdf=0.10971490757548318\n",
      "x=4, pdf=0.10425760878040517\n",
      "x=5, pdf=0.09707037903637858\n",
      "x=6, pdf=0.0885528490152285\n",
      "x=7, pdf=0.07915077990916544\n",
      "x=8, pdf=0.06931778968144382\n",
      "x=9, pdf=0.05948001383093739\n",
      "x=10, pdf=0.05000739859431648\n",
      "x=11, pdf=0.04119403298260811\n",
      "x=12, pdf=0.03324843509098836\n",
      "x=13, pdf=0.02629329131357818\n",
      "x=14, pdf=0.02037302623829119\n",
      "1.1191971528211064\n"
     ]
    }
   ],
   "source": [
    "for i in range(0, 15):\n",
    "    print(f\"x={i}, pdf={pdf(i, 1, 7)}\")\n",
    "print(sum([pdf(j, 1, 7) for j in range(0, 15)]))"
   ]
  },
  {
   "cell_type": "code",
   "execution_count": null,
   "id": "b8cd6393",
   "metadata": {},
   "outputs": [
    {
     "data": {
      "text/plain": [
       "0.007541697549552259"
      ]
     },
     "execution_count": 74,
     "metadata": {},
     "output_type": "execute_result"
    }
   ],
   "source": [
    "pdf(0,1,7)/15"
   ]
  },
  {
   "cell_type": "markdown",
   "id": "a4cde339",
   "metadata": {},
   "source": [
    "Will attempt to implement the pdf function in the same way as the test_pdf function to account for what should be a very low probability of getting a zero."
   ]
  },
  {
   "cell_type": "code",
   "execution_count": 55,
   "id": "ce47066b",
   "metadata": {},
   "outputs": [],
   "source": [
    "def test_pdf(x, location, scale):\n",
    "    return 0.4*m.exp(-((x-location)**2)/(2*scale**2))/scale if x == 0 or x > 6 else 0.8*m.exp(-((x-location)**2)/(2*scale**2))/scale + 0.053*m.exp(-((x-location)**2)/(2*scale**2))/scale"
   ]
  },
  {
   "cell_type": "code",
   "execution_count": 39,
   "id": "14c4cf07",
   "metadata": {},
   "outputs": [
    {
     "name": "stdout",
     "output_type": "stream",
     "text": [
      "x=0, pdf=0.007494561939867556\n",
      "x=1, pdf=0.12185714285714287\n",
      "x=2, pdf=0.12062002518315143\n",
      "x=3, pdf=0.11698352020235893\n",
      "x=4, pdf=0.11116467536210702\n",
      "x=5, pdf=0.10350129164753866\n",
      "x=6, pdf=0.0944194752624874\n",
      "x=7, pdf=0.08439451907814766\n",
      "x=8, pdf=0.07391009324783948\n",
      "x=9, pdf=0.063420564747237\n",
      "x=10, pdf=0.05332038875118995\n",
      "x=11, pdf=0.0439231376677059\n",
      "x=12, pdf=0.03545114391576634\n",
      "x=13, pdf=0.028035221863102734\n",
      "x=14, pdf=0.021722739226577983\n",
      "1.080218500952221\n"
     ]
    }
   ],
   "source": [
    "for i in range(0, 15):\n",
    "    print(f\"x={i}, pdf={test_pdf(i, 1, 7)}\")\n",
    "print(sum([test_pdf(j, 1, 7) for j in range(0, 15)]))"
   ]
  },
  {
   "cell_type": "code",
   "execution_count": 61,
   "id": "fade1d9c",
   "metadata": {},
   "outputs": [
    {
     "name": "stdout",
     "output_type": "stream",
     "text": [
      "x=0, pdf=0.05656273162164194\n",
      "x=1, pdf=0.12185714285714287\n",
      "x=2, pdf=0.12062002518315143\n",
      "x=3, pdf=0.11698352020235893\n",
      "x=4, pdf=0.11116467536210702\n",
      "x=5, pdf=0.10350129164753866\n",
      "x=6, pdf=0.0944194752624874\n",
      "x=7, pdf=0.03957538995458272\n",
      "x=8, pdf=0.03465889484072191\n",
      "x=9, pdf=0.029740006915468693\n",
      "x=10, pdf=0.02500369929715824\n",
      "x=11, pdf=0.020597016491304056\n",
      "x=12, pdf=0.01662421754549418\n",
      "x=13, pdf=0.01314664565678909\n",
      "x=14, pdf=0.010186513119145596\n",
      "0.9146412459570927\n"
     ]
    }
   ],
   "source": [
    "for i in range(0, 15):\n",
    "    print(f\"x={i}, pdf={test_pdf(i, 1, 7)}\")\n",
    "print(sum([test_pdf(j, 1, 7) for j in range(0, 15)]))"
   ]
  },
  {
   "cell_type": "markdown",
   "id": "8fbfc1f8",
   "metadata": {},
   "source": [
    "### Code to test out implementation of dynamic alteration of probabilty density for password generation based on selected keyword"
   ]
  },
  {
   "cell_type": "code",
   "execution_count": 21,
   "id": "5b02033a",
   "metadata": {},
   "outputs": [],
   "source": [
    "def test_pdf(x, location, scale, concentration = 'standard'):\n",
    "    if concentration == 'standard':\n",
    "        return 0.8*m.exp(-((x-location)**2)/(2*scale**2))/scale if x == 0 or x > 6 else 0.8*m.exp(-((x-location)**2)/(2*scale**2))/scale\n",
    "    elif concentration == 'dense':\n",
    "        return 0.4*m.exp(-((x-location)**2)/(2*scale**2))/scale if x > 6 else (0.8*m.exp(-((x-location)**2)/(2*scale**2))/scale if x == 0 else 1.2*m.exp(-((x-location)**2)/(2*scale**2))/scale)\n",
    "    elif concentration == 'sparse':\n",
    "        return 1.5*m.exp(-((x-location)**2)/(2*scale**2))/scale if x > 6 else 0.4*m.exp(-((x-location)**2)/(2*scale**2))/scale "
   ]
  },
  {
   "cell_type": "code",
   "execution_count": 11,
   "id": "b0d6ae93",
   "metadata": {},
   "outputs": [
    {
     "name": "stdout",
     "output_type": "stream",
     "text": [
      "x=0, standard=0.06184143987783312, dense=0.09334455846509038, sparse=0.05114514746708503\n",
      "x=1, standard=0.13322944203071654, dense=0.13852323393135135, sparse=0.05166970850721377\n",
      "x=2, standard=0.13187687053947914, dense=0.13711691882386662, sparse=0.05114514746708503\n",
      "x=3, standard=0.127900989288916, dense=0.13298305831855842, sparse=0.04960320131655976\n",
      "x=4, standard=0.12153910164611349, dense=0.12636838488934954, sparse=0.04713590223424833\n",
      "x=5, standard=0.11316053382136021, dense=0.11765689970178562, sparse=0.04388648415807631\n",
      "x=6, standard=0.10323115831463033, dense=0.10733298641996117, sparse=0.04003562409087647\n",
      "x=7, standard=0.04326875715425505, dense=0.030626318439123546, sparse=0.13893469993631272\n",
      "x=8, standard=0.03789343088770764, dense=0.02682157652415323, sparse=0.12167468622156465\n",
      "x=9, standard=0.032515488501011505, dense=0.023014982877494285, sparse=0.10440627222236738\n",
      "x=10, standard=0.027337165700409706, dense=0.01934968316697998, sparse=0.08777883081215745\n",
      "x=11, standard=0.022519229897347413, dense=0.01593947113806041, sparse=0.0723085813958289\n",
      "x=12, standard=0.018175670099043452, dense=0.01286503003340875, sparse=0.058361539305357216\n",
      "x=13, standard=0.014373554347018608, dense=0.010173831685631171, sparse=0.04615305803912904\n",
      "x=14, standard=0.011137167894157552, dense=0.007883065585185391, sparse=0.035761116826138126\n",
      "0.9999999999999997 0.9999999999999997 1.0000000000000002\n"
     ]
    }
   ],
   "source": [
    "standard_npd = [test_pdf(i, 1, 7, 'standard') for i in range(0, 15)]/np.sum([test_pdf(i, 1, 7, 'standard') for i in range(0, 15)])\n",
    "dense_npd = [test_pdf(i, 1, 7, 'dense') for i in range(0, 15)]/np.sum([test_pdf(i, 1, 7, 'dense') for i in range(0, 15)])\n",
    "sparse_npd = [test_pdf(i, 1, 7, 'sparse') for i in range(0, 15)]/np.sum([test_pdf(i, 1, 7, 'sparse') for i in range(0, 15)])\n",
    "for i in range(0, 15):\n",
    "    print(f\"x={i}, standard={standard_npd[i]}, dense={dense_npd[i]}, sparse={sparse_npd[i]}\")\n",
    "print(np.sum(standard_npd), np.sum(dense_npd), np.sum(sparse_npd))"
   ]
  },
  {
   "cell_type": "code",
   "execution_count": 22,
   "id": "c22fb417",
   "metadata": {},
   "outputs": [
    {
     "name": "stdout",
     "output_type": "stream",
     "text": [
      "x=0, standard=0.10107733294186277, dense=0.09099771094225366, sparse=0.05233352197346053\n",
      "x=1, standard=0.10211401449480083, dense=0.13789651898753005, sparse=0.05287027136376517\n",
      "x=2, standard=0.10107733294186277, dense=0.13649656641338048, sparse=0.05233352197346053\n",
      "x=3, standard=0.09803000954651293, dense=0.13238140856235506, sparse=0.050755748191454335\n",
      "x=4, standard=0.0931539260242112, dense=0.12579666162683917, sparse=0.04823112059462626\n",
      "x=5, standard=0.086732153304445, dense=0.11712458945177127, sparse=0.04490620120907267\n",
      "x=6, standard=0.07912176044409833, dense=0.10684738422424796, sparse=0.040965865127859484\n",
      "x=7, standard=0.07072103401054396, dense=0.031834299655147634, sparse=0.13731123040855597\n",
      "x=8, standard=0.061935280577436955, dense=0.027879488877860764, sparse=0.12025290213543914\n",
      "x=9, standard=0.05314525120172881, dense=0.023922753331797855, sparse=0.10318627173625852\n",
      "x=10, standard=0.044681491967939004, dense=0.02011288472018626, sparse=0.08675312408035485\n",
      "x=11, standard=0.03680677070949679, dense=0.01656816510813088, sparse=0.07146364648363446\n",
      "x=12, standard=0.02970739784959301, dense=0.0133724600940879, sparse=0.057679577342660666\n",
      "x=13, standard=0.023492993390219, dense=0.010575113922530186, sparse=0.04561375372297431\n",
      "x=14, standard=0.01820325059524846, dense=0.008193994081880743, sparse=0.03534324365642316\n",
      "0.9999999999999998 0.9999999999999997 1.0\n",
      "0.6613065296977938 0.8475408402083777 0.342396250433699\n"
     ]
    }
   ],
   "source": [
    "standard_npd = [test_pdf(i, 1, 7, 'standard') for i in range(0, 15)]/np.sum([test_pdf(i, 1, 7, 'standard') for i in range(0, 15)])\n",
    "dense_npd = [test_pdf(i, 1, 7, 'dense') for i in range(0, 15)]/np.sum([test_pdf(i, 1, 7, 'dense') for i in range(0, 15)])\n",
    "sparse_npd = [test_pdf(i, 1, 7, 'sparse') for i in range(0, 15)]/np.sum([test_pdf(i, 1, 7, 'sparse') for i in range(0, 15)])\n",
    "for i in range(0, 15):\n",
    "    print(f\"x={i}, standard={standard_npd[i]}, dense={dense_npd[i]}, sparse={sparse_npd[i]}\")\n",
    "print(np.sum(standard_npd), np.sum(dense_npd), np.sum(sparse_npd))\n",
    "print(np.sum(standard_npd[:7]), np.sum(dense_npd[:7]), np.sum(sparse_npd[:7]))"
   ]
  },
  {
   "cell_type": "code",
   "execution_count": null,
   "id": "de7cb24b",
   "metadata": {},
   "outputs": [],
   "source": []
  }
 ],
 "metadata": {
  "kernelspec": {
   "display_name": ".venv (3.13.6)",
   "language": "python",
   "name": "python3"
  },
  "language_info": {
   "codemirror_mode": {
    "name": "ipython",
    "version": 3
   },
   "file_extension": ".py",
   "mimetype": "text/x-python",
   "name": "python",
   "nbconvert_exporter": "python",
   "pygments_lexer": "ipython3",
   "version": "3.13.6"
  }
 },
 "nbformat": 4,
 "nbformat_minor": 5
}
